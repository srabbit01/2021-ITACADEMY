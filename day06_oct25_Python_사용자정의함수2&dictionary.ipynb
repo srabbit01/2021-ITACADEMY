{
 "cells": [
  {
   "cell_type": "code",
   "execution_count": 22,
   "id": "fefb0dcb",
   "metadata": {},
   "outputs": [],
   "source": [
    "from IPython.core.interactiveshell import InteractiveShell\n",
    "InteractiveShell.ast_node_interactivity = \"all\""
   ]
  },
  {
   "cell_type": "code",
   "execution_count": null,
   "id": "7a4b350f",
   "metadata": {},
   "outputs": [],
   "source": []
  },
  {
   "attachments": {
    "image.png": {
     "image/png": "[encoded data removed]"
    }
   },
   "cell_type": "markdown",
   "id": "e2b5f92b",
   "metadata": {},
   "source": [
    "# 사용자 정의 함수 (day4 참고) **\n",
    "![image.png](attachment:image.png)\n",
    "- 주의해야 할 Error  \n",
    "1. Positional Arguement: 선언한 키워드의 순서 혹은 갯수에 맞지 않는 함수 활용하는 것\n",
    "2. Keyword Argument:\n",
    "- Doc String: 함수에 대한 설명을 입력해 주는 부분이며, 사용자 정의 함수 선언하고 바로 아래 쪽에 달리는 주석이다.  \n",
    "조건 1. 함수명은 영문이어야 한다.  \n",
    "조건 2. #이 아닌 '''을 사용해서 주석을 남겨야 한다.'''  \n",
    "조건 3. 사용하는 Editor에 따라 다르나, jupyter는 '사용자정의함수_이름()'에 tab + shift를 누르면 볼 수 있다."
   ]
  },
  {
   "cell_type": "code",
   "execution_count": null,
   "id": "bcfaa1e7",
   "metadata": {},
   "outputs": [],
   "source": [
    "# input을 받아가는 함수\n",
    "def 사용자정의함수_이름(입력값1,입력값2,...):\n",
    "    실행할 문장1\n",
    "    실행할 문장2"
   ]
  },
  {
   "cell_type": "code",
   "execution_count": 8,
   "id": "4ed8e4da",
   "metadata": {},
   "outputs": [
    {
     "name": "stdout",
     "output_type": "stream",
     "text": [
      "제 성은 한이고 이름은 수정입니다.\n"
     ]
    }
   ],
   "source": [
    "def 프린팅_함수(성,이름):\n",
    "    print(f'제 성은 {성}이고 이름은 {이름}입니다.')\n",
    "프린팅_함수('한','수정') # 따옴표 넣지 않으면 변수명으로 알아차려 Error가 남"
   ]
  },
  {
   "cell_type": "code",
   "execution_count": 13,
   "id": "695918d3",
   "metadata": {},
   "outputs": [
    {
     "name": "stdout",
     "output_type": "stream",
     "text": [
      "이름을 입력하세요: 수정\n",
      "수정씨, 안녕하세요?\n",
      "반갑습니다~\n",
      "오늘 날씨가 참 좋지요?\n"
     ]
    }
   ],
   "source": [
    "def 반갑습니다(이름):\n",
    "    print(f\"{이름}씨, 안녕하세요?\")\n",
    "    print(\"반갑습니다~\")\n",
    "    print(\"오늘 날씨가 참 좋지요?\")\n",
    "name = input(\"이름을 입력하세요: \")\n",
    "반갑습니다(name)"
   ]
  },
  {
   "cell_type": "code",
   "execution_count": 16,
   "id": "21baf6b9",
   "metadata": {},
   "outputs": [
    {
     "name": "stdout",
     "output_type": "stream",
     "text": [
      "수정씨, 안녕하세요?\n",
      "오늘의 날씨는 맑음입니다.\n",
      "\n",
      "맑음씨, 안녕하세요?\n",
      "오늘의 날씨는 수정입니다.\n"
     ]
    }
   ],
   "source": [
    "def 반갑습니다(이름,날씨):\n",
    "    print(f\"{이름}씨, 안녕하세요?\")\n",
    "    print(f\"오늘의 날씨는 {날씨}입니다.\")\n",
    "반갑습니다('수정','맑음')\n",
    "# 입력값은 정해진 갯수 이외 이상을 넣으면 Positional Error가 발생\n",
    "# 입력값 순서도 매우 주용 -> 반대로 작성하면 반대로 출력된다.\n",
    "print()\n",
    "반갑습니다('맑음','수정') # 만일 '수정' 하나만 넣거나 (missing argument) '수정','맑음','맑음' 정해진 갯수 이상 넣으면 Error 발생"
   ]
  },
  {
   "cell_type": "code",
   "execution_count": 12,
   "id": "bb5e8a3f",
   "metadata": {},
   "outputs": [
    {
     "name": "stdout",
     "output_type": "stream",
     "text": [
      "수정씨, 안녕하세요?\n",
      "오늘의 날씨는 맑음입니다.\n"
     ]
    }
   ],
   "source": [
    "def 반갑습니다(이름,날씨): # 함수 명이 영어가 아니면 Doc string이 출력되지 않음\n",
    "    '''Documentary String: 함수 관련 설명을 기입할 수 있다.''' # 출력이 되는 editor가 있고 안되는 editor가 있음\n",
    "    \"\"\"Doc String: tou cal input a documentation wrt your costum made function here...\"\"\"\n",
    "    print(f\"{이름}씨, 안녕하세요?\")\n",
    "    print(f\"오늘의 날씨는 {날씨}입니다.\")\n",
    "반갑습니다('수정','맑음')"
   ]
  },
  {
   "cell_type": "code",
   "execution_count": 18,
   "id": "36cf169f",
   "metadata": {},
   "outputs": [
    {
     "name": "stdout",
     "output_type": "stream",
     "text": [
      "수정씨, 안녕하세요?\n",
      "오늘의 날씨는 맑음입니다.\n"
     ]
    }
   ],
   "source": [
    "def Hello(이름,날씨): # 함수명이 영어가 아니면 DocString이 출력되지 않음\n",
    "    '''Documentary String: 함수 관련 설명을 기입할 수 있다.\n",
    "    DocString: you can input a documentation wrt your costum made function here...''' # 출력이 되는 editor가 있고 안되는 editor가 있음\n",
    "    print(f\"{이름}씨, 안녕하세요?\")\n",
    "    print(f\"오늘의 날씨는 {날씨}입니다.\")\n",
    "Hello('수정','맑음')"
   ]
  },
  {
   "cell_type": "code",
   "execution_count": 4,
   "id": "8af3a25a",
   "metadata": {
    "scrolled": true
   },
   "outputs": [
    {
     "name": "stdout",
     "output_type": "stream",
     "text": [
      "안녕하세요, 수정씨!\n",
      "오늘은 25일이며, 내일은 26일입니다.\n",
      "이번 달은 10월입니다.\n"
     ]
    }
   ],
   "source": [
    "# Positional Arguement 예시\n",
    "def 함수(a, b, c):\n",
    "    print(f\"안녕하세요, {a}씨!\")\n",
    "    int(b)\n",
    "    print(f\"오늘은 {b}일이며, 내일은 {b+1}일입니다.\")\n",
    "    print(f\"이번 달은 {c}월입니다.\")\n",
    "함수('수정',25,10)"
   ]
  },
  {
   "cell_type": "code",
   "execution_count": 8,
   "id": "2540a6e7",
   "metadata": {},
   "outputs": [
    {
     "name": "stdout",
     "output_type": "stream",
     "text": [
      "안녕하세요, 수정씨!\n",
      "\n",
      "Error: (이름,숫자,숫자)를 입력하셔야 합니다.\n"
     ]
    }
   ],
   "source": [
    "# Positional Arguement 예시\n",
    "def 함수(a, b, c):\n",
    "    try: \n",
    "        print(f\"안녕하세요, {a}씨!\")\n",
    "        int(b)\n",
    "        print(f\"오늘은 {b}일이며, 내일은 {b+1}일입니다.\")\n",
    "        print(f\"이번 달은 {c}월입니다.\")\n",
    "    except ValueError:\n",
    "        print()\n",
    "        print(\"Error: (이름,숫자,숫자)를 입력하셔야 합니다.\")\n",
    "함수('수정','몇',10)"
   ]
  },
  {
   "cell_type": "markdown",
   "id": "f34bc9ae",
   "metadata": {},
   "source": [
    "실습1) 스프레이 페인트 1캔이 평방5제곱미터의 면적을 칠할 수 있다면, 벽의 높이와 너비를 입력받아 벽을 칠하는데 필요한 스프레이 캔의 갯수를 세어주는 함수를 만들어라."
   ]
  },
  {
   "cell_type": "code",
   "execution_count": 29,
   "id": "fa50dc74",
   "metadata": {},
   "outputs": [
    {
     "name": "stdout",
     "output_type": "stream",
     "text": [
      "벽을 칠하는데 필요한 스프레이 캔의 갯수는 1570개입니다.\n"
     ]
    }
   ],
   "source": [
    "def paint_num(높이,너비):\n",
    "    int(높이)\n",
    "    int(너비)\n",
    "    면적 = 높이*너비\n",
    "    페인트 = float(면적/5)\n",
    "    import math\n",
    "    페인트_수 = math.ceil(페인트)\n",
    "    print(f\"벽을 칠하는데 필요한 스프레이 캔의 갯수는 {페인트_수}개입니다.\")\n",
    "\n",
    "paint_num(327,24)"
   ]
  },
  {
   "cell_type": "markdown",
   "id": "b45a7eb5",
   "metadata": {},
   "source": [
    "실습2) 입력한 숫자가 소수(prime number)인지 아닌지 확인해 주는 함수를 만들어라. (prime number 조건 : 오직 1과 자기 자신으로만 나누어 떨어짐)"
   ]
  },
  {
   "cell_type": "code",
   "execution_count": 102,
   "id": "c050f964",
   "metadata": {},
   "outputs": [],
   "source": [
    "def prime_num(num):\n",
    "    num_list = []\n",
    "    for i in range(1,(num+1)): # 1부터 자기자신까지 나누어보기\n",
    "        num_cal = num%i\n",
    "        if num_cal == 0:\n",
    "            num_list.append(i)\n",
    "    if len(num_list) == 2:\n",
    "        print(\"숫자 %s은(는) 소수입니다.\" %num)\n",
    "    else:\n",
    "        print(\"숫자 %s은(는) 소수가 아닙니다.\"%num)"
   ]
  },
  {
   "cell_type": "code",
   "execution_count": 104,
   "id": "d72d4eb3",
   "metadata": {},
   "outputs": [
    {
     "name": "stdout",
     "output_type": "stream",
     "text": [
      "숫자를 입력하세요: 17\n",
      "\n",
      "숫자 17은(는) 소수입니다.\n"
     ]
    }
   ],
   "source": [
    "num_input = int(input(\"숫자를 입력하세요: \"))\n",
    "print()\n",
    "prime_num(num_input)"
   ]
  },
  {
   "cell_type": "code",
   "execution_count": 121,
   "id": "ae6f0839",
   "metadata": {},
   "outputs": [],
   "source": [
    "# Another Method\n",
    "def prime_num(num):\n",
    "    no = 0\n",
    "    for i in range(1,(num+1)):\n",
    "        num_cal = num%i\n",
    "        if num_cal == 0:\n",
    "            no += 1\n",
    "    if no == 2:\n",
    "        print(\"숫자 %s은(는) 소수입니다.\" %num)\n",
    "    else:\n",
    "        print(\"숫자 %s은(는) 소수가 아닙니다.\"%num)"
   ]
  },
  {
   "cell_type": "code",
   "execution_count": 123,
   "id": "6dfc2182",
   "metadata": {
    "scrolled": true
   },
   "outputs": [
    {
     "name": "stdout",
     "output_type": "stream",
     "text": [
      "숫자 1은(는) 소수가 아닙니다.\n",
      "숫자 2은(는) 소수입니다.\n",
      "숫자 3은(는) 소수입니다.\n",
      "숫자 4은(는) 소수가 아닙니다.\n",
      "숫자 5은(는) 소수입니다.\n",
      "숫자 6은(는) 소수가 아닙니다.\n",
      "숫자 7은(는) 소수입니다.\n",
      "숫자 8은(는) 소수가 아닙니다.\n",
      "숫자 9은(는) 소수가 아닙니다.\n",
      "숫자 10은(는) 소수가 아닙니다.\n",
      "숫자 11은(는) 소수입니다.\n",
      "숫자 12은(는) 소수가 아닙니다.\n",
      "숫자 13은(는) 소수입니다.\n",
      "숫자 14은(는) 소수가 아닙니다.\n",
      "숫자 15은(는) 소수가 아닙니다.\n",
      "숫자 16은(는) 소수가 아닙니다.\n",
      "숫자 17은(는) 소수입니다.\n",
      "숫자 18은(는) 소수가 아닙니다.\n",
      "숫자 19은(는) 소수입니다.\n",
      "숫자 20은(는) 소수가 아닙니다.\n",
      "숫자 21은(는) 소수가 아닙니다.\n",
      "숫자 22은(는) 소수가 아닙니다.\n",
      "숫자 23은(는) 소수입니다.\n",
      "숫자 24은(는) 소수가 아닙니다.\n",
      "숫자 25은(는) 소수가 아닙니다.\n",
      "숫자 26은(는) 소수가 아닙니다.\n",
      "숫자 27은(는) 소수가 아닙니다.\n",
      "숫자 28은(는) 소수가 아닙니다.\n",
      "숫자 29은(는) 소수입니다.\n",
      "숫자 30은(는) 소수가 아닙니다.\n",
      "숫자 31은(는) 소수입니다.\n",
      "숫자 32은(는) 소수가 아닙니다.\n",
      "숫자 33은(는) 소수가 아닙니다.\n",
      "숫자 34은(는) 소수가 아닙니다.\n",
      "숫자 35은(는) 소수가 아닙니다.\n",
      "숫자 36은(는) 소수가 아닙니다.\n",
      "숫자 37은(는) 소수입니다.\n",
      "숫자 38은(는) 소수가 아닙니다.\n",
      "숫자 39은(는) 소수가 아닙니다.\n",
      "숫자 40은(는) 소수가 아닙니다.\n",
      "숫자 41은(는) 소수입니다.\n",
      "숫자 42은(는) 소수가 아닙니다.\n",
      "숫자 43은(는) 소수입니다.\n",
      "숫자 44은(는) 소수가 아닙니다.\n",
      "숫자 45은(는) 소수가 아닙니다.\n",
      "숫자 46은(는) 소수가 아닙니다.\n",
      "숫자 47은(는) 소수입니다.\n",
      "숫자 48은(는) 소수가 아닙니다.\n",
      "숫자 49은(는) 소수가 아닙니다.\n",
      "숫자 50은(는) 소수가 아닙니다.\n",
      "숫자 51은(는) 소수가 아닙니다.\n",
      "숫자 52은(는) 소수가 아닙니다.\n",
      "숫자 53은(는) 소수입니다.\n",
      "숫자 54은(는) 소수가 아닙니다.\n",
      "숫자 55은(는) 소수가 아닙니다.\n",
      "숫자 56은(는) 소수가 아닙니다.\n",
      "숫자 57은(는) 소수가 아닙니다.\n",
      "숫자 58은(는) 소수가 아닙니다.\n",
      "숫자 59은(는) 소수입니다.\n",
      "숫자 60은(는) 소수가 아닙니다.\n",
      "숫자 61은(는) 소수입니다.\n",
      "숫자 62은(는) 소수가 아닙니다.\n",
      "숫자 63은(는) 소수가 아닙니다.\n",
      "숫자 64은(는) 소수가 아닙니다.\n",
      "숫자 65은(는) 소수가 아닙니다.\n",
      "숫자 66은(는) 소수가 아닙니다.\n",
      "숫자 67은(는) 소수입니다.\n",
      "숫자 68은(는) 소수가 아닙니다.\n",
      "숫자 69은(는) 소수가 아닙니다.\n",
      "숫자 70은(는) 소수가 아닙니다.\n",
      "숫자 71은(는) 소수입니다.\n",
      "숫자 72은(는) 소수가 아닙니다.\n",
      "숫자 73은(는) 소수입니다.\n",
      "숫자 74은(는) 소수가 아닙니다.\n",
      "숫자 75은(는) 소수가 아닙니다.\n",
      "숫자 76은(는) 소수가 아닙니다.\n",
      "숫자 77은(는) 소수가 아닙니다.\n",
      "숫자 78은(는) 소수가 아닙니다.\n",
      "숫자 79은(는) 소수입니다.\n",
      "숫자 80은(는) 소수가 아닙니다.\n",
      "숫자 81은(는) 소수가 아닙니다.\n",
      "숫자 82은(는) 소수가 아닙니다.\n",
      "숫자 83은(는) 소수입니다.\n",
      "숫자 84은(는) 소수가 아닙니다.\n",
      "숫자 85은(는) 소수가 아닙니다.\n",
      "숫자 86은(는) 소수가 아닙니다.\n",
      "숫자 87은(는) 소수가 아닙니다.\n",
      "숫자 88은(는) 소수가 아닙니다.\n",
      "숫자 89은(는) 소수입니다.\n",
      "숫자 90은(는) 소수가 아닙니다.\n",
      "숫자 91은(는) 소수가 아닙니다.\n",
      "숫자 92은(는) 소수가 아닙니다.\n",
      "숫자 93은(는) 소수가 아닙니다.\n",
      "숫자 94은(는) 소수가 아닙니다.\n",
      "숫자 95은(는) 소수가 아닙니다.\n",
      "숫자 96은(는) 소수가 아닙니다.\n",
      "숫자 97은(는) 소수입니다.\n",
      "숫자 98은(는) 소수가 아닙니다.\n",
      "숫자 99은(는) 소수가 아닙니다.\n",
      "숫자 100은(는) 소수가 아닙니다.\n"
     ]
    }
   ],
   "source": [
    "for i in range(1,101):\n",
    "    prime_num(i)"
   ]
  },
  {
   "cell_type": "code",
   "execution_count": null,
   "id": "443af9e0",
   "metadata": {},
   "outputs": [],
   "source": []
  },
  {
   "attachments": {
    "image.png": {
     "image/png": "[encoded data removed]"
    }
   },
   "cell_type": "markdown",
   "id": "18ff33ef",
   "metadata": {},
   "source": [
    "# Dictionary: 사전\n",
    "- dictionary vs list\n",
    "1. dictionary = {'키(key)': '내용(값)'}\n",
    "2. list = []\n",
    "- 여러 개의 dictionary 입력\n",
    "  dictionary = {'키1': '내용1', '키2': '내용2', '키3': '내용3', ...}  -> 콤마(,)를 이용하여 여러 개 입력\n",
    "- 여러 개의 정의를 입력할 시, 줄넘김으로 정리. 단, 줄넘김했을때 indent 주의!\n",
    "- 출력: dictionary(이름)[\"키\"] -> 이때, spelling과 대/소문자 주의!\n",
    "- dictionary에서 내용 추가하기: dictionary[\"키\"] = \"내용\"\n",
    "- dictionary 리셋(reset)하기: dictionart = {} -> 빈 사전 입력하기\n",
    "- dictionart에서 for loop: ***\n",
    "![image.png](attachment:image.png)\n",
    "  for loop에서 변수값은 키(key)값이며, 내용을 불러오기 위해서는 '사전_이름[변수]'로 입력해야 한다.\n",
    "- nested dictionary & list: **\n",
    "  1. 기존 사전에는 내용이 한 쌍으로만 들어가기 때문에, 여러 쌍의 내용은 list로 묶어 넣는다. (List는 하나의 객체로 취급)  \n",
    "  ex) 여행 = {\"프랑스\": [\"파리\", \"보르도\", \"낭트\"]}\n",
    "  2. nested dictionart in dictionary: dictionary = {\"키1\": 내용1{\"키1-1\": \"내용1-1\", \"키1-2\": \"내용1-2\"}}  \n",
    "  ex) 여행 = {\"프랑스\": {\"방문한_도시\": [\"파리\", \"보르도\", \"낭트\"], \"방문횟수\": 12}}\n",
    "  3. nested dictionary in a list: dictionary = [{\"key1-1\": \"\"내용1-1\", \"키1-2\": \"내용1-2\"}, ...]  \n",
    "  ex) 여행 = [{\"나라이름\": \"프랑스\", \"방문한_도시\": [\"파리\", \"보르도\", \"낭트\"], \"방문횟수\": 12}]\n",
    "- dictionary & def: 사전의 경우, 지정 키의 내용 부분에 들어가게 되는데 따옴표 넣지 않고 입력한다.  \n",
    "  ex) if add, subsract, multiply, divide is def  \n",
    "      dictionary = {\"+\": add, \"-\": sucstract, \"*\": multiply, \"/\": divide}  \n",
    "      출력하기 위해서 dictionary[\"키(ket)\"](합수입력값1, ...)"
   ]
  },
  {
   "cell_type": "code",
   "execution_count": 12,
   "id": "c7e44f82",
   "metadata": {},
   "outputs": [],
   "source": [
    "# dictionary 예시\n",
    "프로그래밍_사전 = {\"버그\": \"소프트웨어가 예상하지 못한 잘못된 결과/오류/오작동 등을 뜻한다.\"}\n",
    "\n",
    "# list와 비교\n",
    "리스트 = ['버그','함수','사전']"
   ]
  },
  {
   "cell_type": "code",
   "execution_count": 13,
   "id": "acd132f5",
   "metadata": {},
   "outputs": [
    {
     "ename": "KeyError",
     "evalue": "0",
     "output_type": "error",
     "traceback": [
      "\u001b[1;31m---------------------------------------------------------------------------\u001b[0m",
      "\u001b[1;31mKeyError\u001b[0m                                  Traceback (most recent call last)",
      "\u001b[1;32mC:\\Users\\ADMINI~1\\AppData\\Local\\Temp/ipykernel_5088/2311515963.py\u001b[0m in \u001b[0;36m<module>\u001b[1;34m\u001b[0m\n\u001b[0;32m      1\u001b[0m \u001b[1;31m# Key Error\u001b[0m\u001b[1;33m\u001b[0m\u001b[1;33m\u001b[0m\u001b[1;33m\u001b[0m\u001b[0m\n\u001b[0;32m      2\u001b[0m \u001b[0m프로그래밍_사전\u001b[0m \u001b[1;33m=\u001b[0m \u001b[1;33m{\u001b[0m\u001b[1;34m\"버그\"\u001b[0m\u001b[1;33m:\u001b[0m \u001b[1;34m\"소프트웨어가 예상하지 못한 잘못된 결과/오류/오작동 등을 뜻한다.\"\u001b[0m\u001b[1;33m}\u001b[0m\u001b[1;33m\u001b[0m\u001b[1;33m\u001b[0m\u001b[0m\n\u001b[1;32m----> 3\u001b[1;33m \u001b[0m프로그래밍_사전\u001b[0m\u001b[1;33m[\u001b[0m\u001b[1;36m0\u001b[0m\u001b[1;33m]\u001b[0m\u001b[1;33m\u001b[0m\u001b[1;33m\u001b[0m\u001b[0m\n\u001b[0m",
      "\u001b[1;31mKeyError\u001b[0m: 0"
     ]
    }
   ],
   "source": [
    "# Key Error\n",
    "프로그래밍_사전 = {\"버그\": \"소프트웨어가 예상하지 못한 잘못된 결과/오류/오작동 등을 뜻한다.\"}\n",
    "프로그래밍_사전[0] # dictionary는 index 값을 검색할 수 없다."
   ]
  },
  {
   "cell_type": "code",
   "execution_count": 14,
   "id": "583944a5",
   "metadata": {
    "scrolled": true
   },
   "outputs": [
    {
     "data": {
      "text/plain": [
       "'소프트웨어가 예상하지 못한 잘못된 결과/오류/오작동 등을 뜻한다.'"
      ]
     },
     "execution_count": 14,
     "metadata": {},
     "output_type": "execute_result"
    }
   ],
   "source": [
    "프로그래밍_사전[\"버그\"]"
   ]
  },
  {
   "cell_type": "code",
   "execution_count": 24,
   "id": "c785c413",
   "metadata": {
    "scrolled": true
   },
   "outputs": [
    {
     "data": {
      "text/plain": [
       "'소프트웨어가 예상하지 못한 잘못된 결과/오류/오작동 등을 뜻한다.'"
      ]
     },
     "execution_count": 24,
     "metadata": {},
     "output_type": "execute_result"
    }
   ],
   "source": [
    "# 여러 개의 정의를 입력할 시, 줄넘김으로 정리. 단, 줄넘김했을때 indent 주의!\n",
    "프로그래밍_사전 = {\n",
    "    \"버그\": \"소프트웨어가 예상하지 못한 잘못된 결과/오류/오작동 등을 뜻한다.\",\n",
    "    \"함수\": \"어떤 집합의 각 원소를 다른 집합의 유일한 원소에 대응시키는 이항 관계다.\",\n",
    "    \"인덱스\": \"데이터베이스 분야에 있어서 테이블에 대한 동작의 속도를 높여주는 자료 구조를 일컫는다.\"\n",
    "}\n",
    "프로그래밍_사전[\"버그\"] # spelling과 대/소문자 주의!"
   ]
  },
  {
   "cell_type": "code",
   "execution_count": 25,
   "id": "ae122f81",
   "metadata": {},
   "outputs": [
    {
     "data": {
      "text/plain": [
       "{'버그': '소프트웨어가 예상하지 못한 잘못된 결과/오류/오작동 등을 뜻한다.',\n",
       " '함수': '어떤 집합의 각 원소를 다른 집합의 유일한 원소에 대응시키는 이항 관계다.',\n",
       " '인덱스': '데이터베이스 분야에 있어서 테이블에 대한 동작의 속도를 높여주는 자료 구조를 일컫는다.',\n",
       " '데이터': '론을 세우는 데 기초가 되는 사실자료이다.'}"
      ]
     },
     "execution_count": 25,
     "metadata": {},
     "output_type": "execute_result"
    },
    {
     "data": {
      "text/plain": [
       "['버그', '함수', '인덱스']"
      ]
     },
     "execution_count": 25,
     "metadata": {},
     "output_type": "execute_result"
    }
   ],
   "source": [
    "# dictionary 내용 추가하기\n",
    "프로그래밍_사전[\"데이터\"] = \"론을 세우는 데 기초가 되는 사실자료이다.\"\n",
    "\n",
    "# 사전이기 때문에 오름차순으로 입력\n",
    "프로그래밍_사전\n",
    "\n",
    "# list 값 추가하기\n",
    "리스트 = ['버그','함수','사전']\n",
    "리스트[2] = \"인덱스\"\n",
    "리스트"
   ]
  },
  {
   "cell_type": "code",
   "execution_count": 20,
   "id": "2f78800c",
   "metadata": {},
   "outputs": [
    {
     "data": {
      "text/plain": [
       "{}"
      ]
     },
     "execution_count": 20,
     "metadata": {},
     "output_type": "execute_result"
    }
   ],
   "source": [
    "# dictionary 리셋하기\n",
    "프로그래밍_사전 = {} # 비어있는 칸 입력\n",
    "프로그래밍_사전\n",
    "\n",
    "# list 리셋하기\n",
    "리스트 = []"
   ]
  },
  {
   "cell_type": "code",
   "execution_count": 33,
   "id": "dbad4a91",
   "metadata": {},
   "outputs": [
    {
     "name": "stdout",
     "output_type": "stream",
     "text": [
      "버그\n",
      "함수\n",
      "인덱스\n",
      "데이터\n",
      "\n",
      "소프트웨어가 예상하지 못한 잘못된 결과/오류/오작동 등을 뜻한다.\n",
      "어떤 집합의 각 원소를 다른 집합의 유일한 원소에 대응시키는 이항 관계다.\n",
      "데이터베이스 분야에 있어서 테이블에 대한 동작의 속도를 높여주는 자료 구조를 일컫는다.\n",
      "론을 세우는 데 기초가 되는 사실자료이다.\n",
      "\n",
      "버그: 소프트웨어가 예상하지 못한 잘못된 결과/오류/오작동 등을 뜻한다.\n",
      "함수: 어떤 집합의 각 원소를 다른 집합의 유일한 원소에 대응시키는 이항 관계다.\n",
      "인덱스: 데이터베이스 분야에 있어서 테이블에 대한 동작의 속도를 높여주는 자료 구조를 일컫는다.\n",
      "데이터: 론을 세우는 데 기초가 되는 사실자료이다.\n",
      "\n",
      "버그\n",
      "함수\n",
      "인덱스\n"
     ]
    }
   ],
   "source": [
    "# dictionary로 for loop 사용하기\n",
    "for i in 프로그래밍_사전:\n",
    "    print(i) # 키(key)값만 출력 ***\n",
    "print()\n",
    "for i in 프로그래밍_사전:\n",
    "    print(프로그래밍_사전[i]) # 내용만 출력\n",
    "print()\n",
    "for i in 프로그래밍_사전:\n",
    "    print(f\"{i}: {프로그래밍_사전[i]}\") # key + 내용 출력\n",
    "print()\n",
    "\n",
    "# list에서 for loop 사용하기\n",
    "for i in 리스트:\n",
    "    print(i)"
   ]
  },
  {
   "cell_type": "code",
   "execution_count": null,
   "id": "92f14feb",
   "metadata": {},
   "outputs": [],
   "source": [
    "# Nested Dictionary & List ***\n",
    "# Nesting: 다른 주체에 포함되는 것\n",
    "\n",
    "# 기존 사전에는 내용이 한 쌍으로만 들어간다.\n",
    "여행 = {\n",
    "    \"프랑스\": \"파리\", \"보르도\", \"낭트\" # Error 발생\n",
    "}\n",
    "# 여러 쌍의 내용을 넣으려면 list로 묶어 넣는다, List는 하나의 객체로 취급하기 때문이다.\n",
    "여행 = {\n",
    "    \"프랑스\": [\"파리\", \"보르도\", \"낭트\"]\n",
    "}\n",
    "\n",
    "# Nested Dictionart in dictionary\n",
    "여행 = {\n",
    "    \"프랑스\": {\"방문한_도시\": [\"파리\", \"보르도\", \"낭트\"], \"방문횟수\": 12},\n",
    "    \"미국\": {\"방문한_도시\": [\"뉴욕\", \"라스베가스\", \"올랜도\", \"마이애미\"], \"방문획수\": 8},\n",
    "    \"독일\": {\"방문한_도시\": [\"뭰헨\", \"함부르크\", \"베를린\"], \"방문횟수\": 10}\n",
    "}"
   ]
  },
  {
   "cell_type": "code",
   "execution_count": 34,
   "id": "0fb2e55a",
   "metadata": {},
   "outputs": [
    {
     "data": {
      "text/plain": [
       "{'프랑스': ['파리', '보르도', '낭트'],\n",
       " '미국': ['뉴욕', '라스베가스', '올랜도', '마이애미'],\n",
       " '독일': ['뭰헨', '함부르크', '베를린']}"
      ]
     },
     "execution_count": 34,
     "metadata": {},
     "output_type": "execute_result"
    }
   ],
   "source": [
    "여행 = {\n",
    "    \"프랑스\": [\"파리\", \"보르도\", \"낭트\"],\n",
    "    \"미국\": [\"뉴욕\", \"라스베가스\", \"올랜도\", \"마이애미\"],\n",
    "    \"독일\": [\"뭰헨\", \"함부르크\", \"베를린\"]\n",
    "}\n",
    "여행"
   ]
  },
  {
   "cell_type": "code",
   "execution_count": 36,
   "id": "0525900c",
   "metadata": {},
   "outputs": [
    {
     "data": {
      "text/plain": [
       "{'프랑스': {'방문한_도시': ['파리', '보르도', '낭트'], '방문횟수': 12},\n",
       " '미국': {'방문한_도시': ['뉴욕', '라스베가스', '올랜도', '마이애미'], '방문획수': 8},\n",
       " '독일': {'방문한_도시': ['뭰헨', '함부르크', '베를린'], '방문횟수': 10}}"
      ]
     },
     "execution_count": 36,
     "metadata": {},
     "output_type": "execute_result"
    }
   ],
   "source": [
    "# Nested Dictionart in dictionary\n",
    "여행 = {\n",
    "    \"프랑스\": {\"방문한_도시\": [\"파리\", \"보르도\", \"낭트\"], \"방문횟수\": 12},\n",
    "    \"미국\": {\"방문한_도시\": [\"뉴욕\", \"라스베가스\", \"올랜도\", \"마이애미\"], \"방문획수\": 8},\n",
    "    \"독일\": {\"방문한_도시\": [\"뭰헨\", \"함부르크\", \"베를린\"], \"방문횟수\": 10}\n",
    "}\n",
    "여행"
   ]
  },
  {
   "cell_type": "code",
   "execution_count": 39,
   "id": "2c97b789",
   "metadata": {},
   "outputs": [
    {
     "data": {
      "text/plain": [
       "[{'나라이름': '프랑스', '방문한_도시': ['파리', '보르도', '낭트'], '방문횟수': 12},\n",
       " {'나라이름': '미국', '방문한_도시': ['뉴욕', '라스베가스', '올랜도', '마이애미'], '방문획수': 8},\n",
       " {'나라이름': '독일', '방문한_도시': ['뭰헨', '함부르크', '베를린'], '방문횟수': 10}]"
      ]
     },
     "execution_count": 39,
     "metadata": {},
     "output_type": "execute_result"
    }
   ],
   "source": [
    "# Nested Dictionart in a list\n",
    "여행 = [\n",
    "    {\"나라이름\": \"프랑스\",\n",
    "     \"방문한_도시\": [\"파리\", \"보르도\", \"낭트\"],\n",
    "     \"방문횟수\": 12},\n",
    "    {\"나라이름\": \"미국\",\n",
    "     \"방문한_도시\": [\"뉴욕\", \"라스베가스\", \"올랜도\", \"마이애미\"],\n",
    "     \"방문획수\": 8},\n",
    "    {\"나라이름\": \"독일\",\n",
    "     \"방문한_도시\": [\"뭰헨\", \"함부르크\", \"베를린\"],\"방문횟수\": 10}\n",
    "]\n",
    "여행"
   ]
  },
  {
   "cell_type": "markdown",
   "id": "051f636e",
   "metadata": {},
   "source": [
    "실습1) 실습1 키= 이름, 내용= 시험성적 으로 이루어진 데이터 베이스가 딕셔너리의 형태로 저장되어 있다. 해당 학생들의 시험성적을 학점으로 변환하여 새로운 딕셔너리의 형태로 저장하여라.  \n",
    "(학점 변환 기준: 90 이상 A 80 이상 B 70 이상 C 70 미만 Fail)"
   ]
  },
  {
   "cell_type": "code",
   "execution_count": 17,
   "id": "3c38f236",
   "metadata": {},
   "outputs": [
    {
     "name": "stdout",
     "output_type": "stream",
     "text": [
      "Student Harry score is B.\n",
      "Student Ron score is C.\n",
      "Student Hermione score is A.\n",
      "Student Draco score is C.\n",
      "Student Neville has failed.\n",
      "\n"
     ]
    },
    {
     "data": {
      "text/plain": [
       "{'Harry': 'B', 'Ron': 'C', 'Hermione': 'A', 'Draco': 'C', 'Neville': 'F'}"
      ]
     },
     "execution_count": 17,
     "metadata": {},
     "output_type": "execute_result"
    }
   ],
   "source": [
    "student_scores ={\n",
    "  \"Harry\": 81,\n",
    "  \"Ron\": 78,\n",
    "  \"Hermione\": 99, \n",
    "  \"Draco\": 74,\n",
    "  \"Neville\": 62,\n",
    "}\n",
    "for i in student_scores:\n",
    "    int(student_scores[i]) # 이미 숫자로 저장되어 있기 때문에 정수로 변환할 필요 없음\n",
    "    if student_scores[i] >= 90:\n",
    "        print(\"Student %s score is A.\" %i)\n",
    "        student_scores[i] = 'A'\n",
    "    elif student_scores[i] >= 80:\n",
    "        print(\"Student %s score is B.\" %i)\n",
    "        student_scores[i] = 'B'\n",
    "    elif student_scores[i] >= 70:\n",
    "        print(\"Student %s score is C.\" %i)\n",
    "        student_scores[i] = 'C'\n",
    "    else:\n",
    "        print(\"Student %s has failed.\" %i)\n",
    "        student_scores[i] = 'F'\n",
    "print()\n",
    "student_scores"
   ]
  },
  {
   "cell_type": "code",
   "execution_count": 16,
   "id": "91ea092d",
   "metadata": {},
   "outputs": [
    {
     "name": "stdout",
     "output_type": "stream",
     "text": [
      "\n"
     ]
    },
    {
     "data": {
      "text/plain": [
       "{'Harry': 'B', 'Ron': 'C', 'Hermione': 'A', 'Draco': 'C', 'Neville': 'F'}"
      ]
     },
     "execution_count": 16,
     "metadata": {},
     "output_type": "execute_result"
    }
   ],
   "source": [
    "student_scores ={\n",
    "  \"Harry\": 81,\n",
    "  \"Ron\": 78,\n",
    "  \"Hermione\": 99, \n",
    "  \"Draco\": 74,\n",
    "  \"Neville\": 62,\n",
    "}\n",
    "student_grades = {} # 성적 추가에 이용\n",
    "for i in student_scores:\n",
    "    if student_scores[i] >= 90:\n",
    "        student_grades[i] = 'A'\n",
    "    elif student_scores[i] >= 80:\n",
    "        student_grades[i] = 'B'\n",
    "    elif student_scores[i] >= 70:\n",
    "        student_grades[i] = 'C'\n",
    "    else:\n",
    "        student_grades[i] = 'F'\n",
    "print()\n",
    "student_grades"
   ]
  },
  {
   "cell_type": "markdown",
   "id": "bd088652",
   "metadata": {},
   "source": [
    "실습2) 여행기록을 나타내는 travel_log를 작성하라.(# 예시 : nesting dictionary in a list 참조) Travel log에 데이터를 추가해 주는 함수를 만들어라. 이때 추가할 내용으로 나라이름, 방문도시, 방문 횟수가 포함되어야 한다.  \n",
    "예) 나라_추가하기_함수(\"Russia\",2,[\"모스크바\",\"세인트피츠버그\"])"
   ]
  },
  {
   "cell_type": "code",
   "execution_count": 19,
   "id": "ed990788",
   "metadata": {},
   "outputs": [
    {
     "name": "stdout",
     "output_type": "stream",
     "text": [
      "방문하신 나라이름을 적으시오: 러시아\n",
      "방문하신 도시이름을 적으시오: 상테페테부르크, 블라디보스톡\n",
      "해당 나라의 방문횟수를 적으시오: 2\n"
     ]
    },
    {
     "data": {
      "text/plain": [
       "[{'나라이름': '미국', '방문도시': ['로스앤젤레스', '뉴욕', '올랜도', '필라델피아'], '방문횟수': 2},\n",
       " {'나라이름': '일본', '방문도시': ['도쿄', '오사카', '교토'], '방문횟수': 3},\n",
       " {'나라이름': '필리핀', '방문도시': ['마닐라'], '방문횟수': 2},\n",
       " {'나라이름': '러시아', '방문도시': ['상테페테부르크', '블라디보스톡'], '방문횟수': '2'}]"
      ]
     },
     "execution_count": 19,
     "metadata": {},
     "output_type": "execute_result"
    }
   ],
   "source": [
    "travel = [\n",
    "    {\"나라이름\": \"미국\", \"방문도시\": [\"로스앤젤레스\",\"뉴욕\",\"올랜도\",\"필라델피아\"], \"방문횟수\": 2},\n",
    "    {\"나라이름\": \"일본\", \"방문도시\": [\"도쿄\",\"오사카\",\"교토\"], \"방문횟수\": 3},\n",
    "    {\"나라이름\": \"필리핀\", \"방문도시\": [\"마닐라\"], \"방문횟수\": 2}\n",
    "]\n",
    "\n",
    "def travel_log(나라이름, 방문도시, 방문횟수):\n",
    "    travel.append({\"나라이름\": 나라이름, \"방문도시\": 방문도시.split(', '), \"방문횟수\": 방문횟수})\n",
    "\n",
    "a = input(\"방문하신 나라이름을 적으시오: \")\n",
    "b = input(\"방문하신 도시이름을 적으시오: \")\n",
    "c = input(\"해당 나라의 방문횟수를 적으시오: \")\n",
    "\n",
    "travel_log(a,b,c)\n",
    "travel"
   ]
  },
  {
   "cell_type": "code",
   "execution_count": 5,
   "id": "6fb98c91",
   "metadata": {},
   "outputs": [
    {
     "name": "stdout",
     "output_type": "stream",
     "text": [
      "[{'나라이름': '프랑스', '방문한_도시': ['파리', '보르도', '낭트'], '방문횟수': 12}, {'나라이름': '독일', '방문한_도시': ['뮌헨', '함부르크', '베를린'], '방문횟수': 12}, {'나라이름': 'Russia', '방문한_도시': ['모스크바', '세인트피츠버그'], '방문횟수': 2}]\n"
     ]
    }
   ],
   "source": [
    "# Another Answer\n",
    "여행기록 = [\n",
    "    {\n",
    "        \"나라이름\":\"프랑스\",\n",
    "        \"방문한_도시\" : [\"파리\", \"보르도\", \"낭트\"],\n",
    "        \"방문횟수\" : 12\n",
    "    },\n",
    "    \n",
    "    {\n",
    "        \"나라이름\":\"독일\" ,\n",
    "        \"방문한_도시\" :[\"뮌헨\", \"함부르크\", \"베를린\"],\n",
    "        \"방문횟수\" : 12\n",
    "    },\n",
    "] # 여행기록이라는 얘는 '리스트' 이다. 안에 있는 나라이름~방문횟수 모두 딕셔너로 묶여진 요소(element)1개. 따라서, append()를 써서 데이터를 추가할 수 있다. \n",
    "\n",
    "# 3개의 인풋을 가지는 함수를 만들자.\n",
    "def 나라_추가하기_함수 (나라이름, 방문횟수, 방문도시):\n",
    "    #여기서부터 딕셔너리 제작에 들어간다. \n",
    "    새_나라_사전 = {} # 빈 사전을 선언해서\n",
    "    새_나라_사전[\"나라이름\"] = 나라이름 # \"나라이름\"이라는 키값을 가지고, 내용으로는 변수로 입력받은 나라이름을 넣는다.\n",
    "    새_나라_사전[\"방문한_도시\"] = 방문도시 # \"방문한_도시\"이라는 키값에, 내용으로 변수로 입력받은 방문도시를 넣는다.\n",
    "    새_나라_사전[\"방문횟수\"] = 방문횟수 # \"방문횟수\"이라는 키값에, 내용으로 변수로 입력받은 방문횟수를 넣는다.\n",
    "    # 여기까지 해서 dictionary가 하나 만들어 졌다.\n",
    "\n",
    "    # 만들어진 dictionary를 추가하고자 하는 리스트에 추가해 준다.\n",
    "    여행기록.append(새_나라_사전)\n",
    "\n",
    "나라_추가하기_함수(\"Russia\",2,[\"모스크바\",\"세인트피츠버그\"])\n",
    "print(여행기록)"
   ]
  },
  {
   "cell_type": "code",
   "execution_count": 11,
   "id": "6856e02e",
   "metadata": {},
   "outputs": [
    {
     "name": "stdout",
     "output_type": "stream",
     "text": [
      "나라이름: 프랑스\n",
      "방문도시: ['파리', '보르도', '낭트']\n",
      "방문횟수: 12\n",
      "\n",
      "나라이름: 독일\n",
      "방문도시: ['뮌헨', '함부르크', '베를린']\n",
      "방문횟수: 12\n",
      "\n",
      "나라이름: Russia\n",
      "방문도시: ['모스크바', '세인트피츠버그']\n",
      "방문횟수: 2\n",
      "\n"
     ]
    }
   ],
   "source": [
    "for i in range(0,len(여행기록)):\n",
    "    print(\"나라이름:\", 여행기록[i]['나라이름'])\n",
    "    print(\"방문도시:\", 여행기록[i]['방문한_도시'])\n",
    "    print(\"방문횟수:\", 여행기록[i]['방문횟수'])\n",
    "    print()"
   ]
  },
  {
   "cell_type": "code",
   "execution_count": 15,
   "id": "f0fdc043",
   "metadata": {
    "scrolled": false
   },
   "outputs": [
    {
     "name": "stdout",
     "output_type": "stream",
     "text": [
      "방문하신 국가는 ['프랑스', '독일', 'Russia']입니다.\n",
      "당신은 총 26번의 해외여행을 했습니다.\n"
     ]
    }
   ],
   "source": [
    "country = []\n",
    "num = 0\n",
    "for i in range(0,len(여행기록)):\n",
    "    country.append(여행기록[i][\"나라이름\"])\n",
    "for i in range(0,len(여행기록)):\n",
    "     num += 여행기록[i][\"방문횟수\"]\n",
    "print(\"방문하신 국가는 %s입니다.\" %country)\n",
    "print(f\"당신은 총 {num}번의 해외여행을 했습니다.\")"
   ]
  },
  {
   "cell_type": "code",
   "execution_count": null,
   "id": "875045fe",
   "metadata": {},
   "outputs": [],
   "source": []
  },
  {
   "attachments": {
    "image-2.png": {
     "image/png": "[encoded data removed]"
    },
    "image-3.png": {
     "image/png": "[encoded data removed]"
    },
    "image-4.png": {
     "image/png": "[encoded data removed]"
    }
   },
   "cell_type": "markdown",
   "id": "b88be765",
   "metadata": {},
   "source": [
    "# 함수 with Output\n",
    "1. 단순 사용자 정의 함수:\n",
    "![image-2.png](attachment:image-2.png)\n",
    "2. 입력이 있는 사용자 정의 함수\n",
    "![image-3.png](attachment:image-3.png)\n",
    "3. 출력물이 있는 사용자 정의 함수: 결과물을 출력한다. -> return 이용\n",
    "![image-4.png](attachment:image-4.png)"
   ]
  },
  {
   "attachments": {
    "image-2.png": {
     "image/png": "[encoded data removed]"
    },
    "image.png": {
     "image/png": "[encoded data removed]"
    }
   },
   "cell_type": "markdown",
   "id": "c174160b",
   "metadata": {},
   "source": [
    "## Title vs Capitalize\n",
    "1. title(): 문장의 모든 단어의 첫 글자를 대문자로 변경한다. 또한, 알파벳 외의 문자들을 기준으로 첫 글자를 대문자로 변경한다.\n",
    "2. capitalize(): 문장에서의 첫 단어의 첫 글자만 대문자로 변경한다.\n",
    "![image.png](attachment:image.png)\n",
    "![image-2.png](attachment:image-2.png)"
   ]
  },
  {
   "cell_type": "code",
   "execution_count": 29,
   "id": "772ca6fd",
   "metadata": {
    "scrolled": true
   },
   "outputs": [
    {
     "name": "stdout",
     "output_type": "stream",
     "text": [
      "Sujung\n",
      "Han\n",
      "결과물은 None\n",
      "\n",
      "6\n"
     ]
    }
   ],
   "source": [
    "# 출력물이 없는 함수\n",
    "def 영문_이름(f_name,l_name):\n",
    "    print(f_name.title()) # print만 수행함\n",
    "    print(l_name.title())\n",
    "str2 = 영문_이름(\"sujung\",\"han\")\n",
    "print(\"결과물은\", str2) # return을 해야 None으로 출력되는 것을 방지할 수 았음\n",
    "# return을 이용해서 내부에서 계산된 값을 밖으로 출력해야 함\n",
    "\n",
    "print()\n",
    "\n",
    "import math\n",
    "변수1 = math.ceil(5.1)\n",
    "print(변수1)"
   ]
  },
  {
   "cell_type": "code",
   "execution_count": 27,
   "id": "11174d63",
   "metadata": {
    "scrolled": true
   },
   "outputs": [
    {
     "name": "stdout",
     "output_type": "stream",
     "text": [
      "결과물은 Sujung Han\n"
     ]
    }
   ],
   "source": [
    "# 출력물이 있는 함수: '출력물'이라고 지정해주는 함수가 \"return\"\n",
    "def 영문_이름(f_name,l_name):\n",
    "    capitalized_f_name = f_name.title()\n",
    "    capitalized_l_name = l_name.title()\n",
    "    return f\"{capitalized_f_name} {capitalized_l_name}\" # return은 하나밖에 출력 가능\n",
    "\n",
    "str1 = 영문_이름(\"sujung\",\"han\")\n",
    "print(\"결과물은\", str1)"
   ]
  },
  {
   "cell_type": "code",
   "execution_count": 1,
   "id": "9c55affe",
   "metadata": {},
   "outputs": [
    {
     "name": "stdout",
     "output_type": "stream",
     "text": [
      "성을 입력하세요: han\n",
      "이름을 입력하세요: \n",
      "결과물은 입력물을 넣지 않았습니다.\n"
     ]
    }
   ],
   "source": [
    "# 사용자 정의 함수는 return을 만나면, 그 순간에 결과값을 출력하고 깨진다. (while loop에서의 break와 비슷하나 결과를 출력함)\n",
    "def 영문_이름(f_name,l_name):\n",
    "    if f_name == \"\" or l_name == \"\":\n",
    "        return \"입력물을 넣지 않았습니다.\" # 다양한 반복/조건 문법을 이용해서 (선정이 가능한) return을 여러개 지정할 수 있다.\n",
    "    # return을 만나면 사용자정의함수는 끝난다.\n",
    "    capitalized_f_name = f_name.title()\n",
    "    capitalized_l_name = l_name.title()\n",
    "    return f\"{capitalized_f_name} {capitalized_l_name}\" # return은 하나밖에 출력 가능\n",
    "\n",
    "a = input(\"성을 입력하세요: \")\n",
    "b = input(\"이름을 입력하세요: \")\n",
    "\n",
    "str1 = 영문_이름(a,b)\n",
    "print(\"결과물은\", str1)"
   ]
  },
  {
   "cell_type": "markdown",
   "id": "b1cef62f",
   "metadata": {},
   "source": [
    "실습1) 년도 / 달 입력하면 해당 달의 일수를 돌려주는 함수를 만들어라.  \n",
    "Hint : 달 일수를 list 형태로 저장해두고 출력하여라."
   ]
  },
  {
   "cell_type": "code",
   "execution_count": 11,
   "id": "29aa3cb2",
   "metadata": {},
   "outputs": [
    {
     "name": "stdout",
     "output_type": "stream",
     "text": [
      "년도 입력: 2000\n",
      "달 입력: 2\n",
      "\n",
      "2000년 2월은 윤년이며 29일까지 있습니다.\n"
     ]
    }
   ],
   "source": [
    "def days(year,month):\n",
    "    if month == 1 or month == 3 or month == 5 or month == 7 or month == 8 or month == 10 or month == 12:\n",
    "        return 31\n",
    "    elif month == 4 or month == 6 or month == 9 or month == 11:\n",
    "        return 30\n",
    "    else:\n",
    "        if year%4 == 0:\n",
    "            if year%100 == 0:\n",
    "                if year%400 == 0:\n",
    "                    return 29 # 윤년\n",
    "                else:\n",
    "                    return 28 # 평년\n",
    "            else:\n",
    "                return 29\n",
    "        else:\n",
    "            return 28\n",
    "\n",
    "year = int(input(\"년도 입력: \"))\n",
    "month = int(input(\"달 입력: \"))\n",
    "day = days(year,month)\n",
    "if day == 29:\n",
    "    year_leap = \"윤년\"\n",
    "else:\n",
    "    year_leap = \"평년\"\n",
    "print()\n",
    "print(\"%s년 %s월은 %s이며 %s일까지 있습니다.\" %(year,month,year_leap,day))"
   ]
  },
  {
   "cell_type": "code",
   "execution_count": 13,
   "id": "7341b7ec",
   "metadata": {
    "scrolled": true
   },
   "outputs": [
    {
     "name": "stdout",
     "output_type": "stream",
     "text": [
      "년도 입력: 2000\n",
      "달 입력: 2\n",
      "29\n"
     ]
    }
   ],
   "source": [
    "# Another Answer\n",
    "def is_leap(year):\n",
    "  if year % 4 == 0:\n",
    "    if year % 100 == 0:\n",
    "      if year % 400 == 0:\n",
    "        return True # 윤년이면 True.\n",
    "      else:\n",
    "        return False # 윤년이 아니면 False.\n",
    "    else:\n",
    "        return True\n",
    "  else:\n",
    "    return False\n",
    "    \n",
    "def days_in_month(year, month): # 1.년도 / 2.달 입력하면 해당 달의 일수를 돌려주는 함수를 만들어라.\"\n",
    "    month_days = [31,28,31,30,31,30,31,31,30,31,30,31]\n",
    "    # 입력한 월의 값이 옳지 않은경우. \n",
    "    if month > 12 or month < 1:\n",
    "        return(\"올바른 값을 입력 하세요\")\n",
    "    #윤년이면서 2월일 경우만\n",
    "    if month == 2 and is_leap(year) : # if is_leap(year): <= 위에서 만든 윤년 함수에, (인풋으로) year를 넣었을때 결과물이 \"True\"일 경우\n",
    "        return 29\n",
    "    return month_days[month-1]\n",
    "\n",
    "year = int(input(\"년도 입력: \"))\n",
    "month = int(input(\"달 입력: \"))\n",
    "days = days_in_month(year, month)\n",
    "print(days)"
   ]
  },
  {
   "cell_type": "markdown",
   "id": "7b6263e1",
   "metadata": {},
   "source": [
    "실습2) 비밀번호 생성기 (random과 for loop 이용)  \n",
    "사용자가 입력하는 글자수 만큼 글자/ 숫자/ 특수문자를 임의로 섞어 비밀번호를 생성해주는 함수를 만들어보자.  \n",
    "(추가: 사용자가 글자수/ 숫자수/ 특수문자수를 지정해주는 대로 비밀번호 생성)"
   ]
  },
  {
   "cell_type": "code",
   "execution_count": 1,
   "id": "a2944005",
   "metadata": {},
   "outputs": [
    {
     "name": "stdout",
     "output_type": "stream",
     "text": [
      "몇 자리 비밀번호를 만들지 적으시오: 5\n",
      "\n",
      "['2', 'F', 'H', ')', 'f']\n"
     ]
    }
   ],
   "source": [
    "how_many = int(input(\"몇 자리 비밀번호를 만들지 적으시오: \"))\n",
    "letters = ['a', 'b', 'c', 'd', 'e', 'f', 'g', 'h', 'i', 'j', 'k', 'l', 'm', 'n', 'o',\n",
    "            'p', 'q', 'r', 's', 't', 'u', 'v', 'w', 'x', 'y', 'z', \n",
    "           'A', 'B', 'C', 'D', 'E', 'F', 'G', 'H', 'I', 'J', 'K', 'L', 'M', 'N', 'O',\n",
    "           'P', 'Q', 'R', 'S', 'T', 'U', 'V', 'W', 'X', 'Y', 'Z']\n",
    "numbers = ['0', '1', '2', '3', '4', '5', '6', '7', '8', '9']\n",
    "symbols = ['!', '#', '$', '%', '&', '(', ')', '*', '+']\n",
    "word = letters+numbers+symbols\n",
    "import random\n",
    "random_word = []\n",
    "for i in range(0,how_many):\n",
    "    word_ran = random.choice(word)\n",
    "    random_word.append(word_ran)\n",
    "print()\n",
    "print(random_word)"
   ]
  },
  {
   "cell_type": "code",
   "execution_count": 23,
   "id": "66b37e5e",
   "metadata": {},
   "outputs": [
    {
     "name": "stdout",
     "output_type": "stream",
     "text": [
      "몇 자리 비밀번호를 만들지 적으시오: 8\n",
      "\n",
      "사용자의 임시 비밀번호는 2WXphqus입니다.\n"
     ]
    }
   ],
   "source": [
    "# 중복 없이 비밀번호 만들기\n",
    "how_many = int(input(\"몇 자리 비밀번호를 만들지 적으시오: \"))\n",
    "letters = ['a', 'b', 'c', 'd', 'e', 'f', 'g', 'h', 'i', 'j', 'k', 'l', 'm', 'n', 'o',\n",
    "            'p', 'q', 'r', 's', 't', 'u', 'v', 'w', 'x', 'y', 'z', \n",
    "           'A', 'B', 'C', 'D', 'E', 'F', 'G', 'H', 'I', 'J', 'K', 'L', 'M', 'N', 'O',\n",
    "           'P', 'Q', 'R', 'S', 'T', 'U', 'V', 'W', 'X', 'Y', 'Z']\n",
    "numbers = ['0', '1', '2', '3', '4', '5', '6', '7', '8', '9']\n",
    "symbols = ['!', '#', '$', '%', '&', '(', ')', '*', '+']\n",
    "word = letters+numbers+symbols\n",
    "import random\n",
    "random_word = []\n",
    "for i in range(0,how_many):\n",
    "    word_ran = random.choice(word)\n",
    "    random_word.append(word_ran)\n",
    "    word.remove(word_ran)\n",
    "print()\n",
    "word_tot = \"\"\n",
    "for i in random_word:\n",
    "    word_tot += i # 더해서 하나씩 넣어야 함.\n",
    "print(f\"사용자의 임시 비밀번호는 {word_tot}입니다.\")"
   ]
  },
  {
   "cell_type": "code",
   "execution_count": 3,
   "id": "bddaea21",
   "metadata": {},
   "outputs": [
    {
     "name": "stdout",
     "output_type": "stream",
     "text": [
      "알파벳은 몇 개 넣으시겠습니까? 2\n",
      "숫자는 몇 개 넣으시겠습니까? 4\n",
      "특수 문자는 몇 개 넣으시겠습니까? 3\n",
      "\n",
      "['1', '$', '9', '!', 'b', '0', '(', 'b', '0']\n"
     ]
    }
   ],
   "source": [
    "how_many1 = int(input(\"알파벳은 몇 개 넣으시겠습니까? \"))\n",
    "how_many2 = int(input(\"숫자는 몇 개 넣으시겠습니까? \"))\n",
    "how_many3 = int(input(\"특수 문자는 몇 개 넣으시겠습니까? \"))\n",
    "print()\n",
    "letters = ['a', 'b', 'c', 'd', 'e', 'f', 'g', 'h', 'i', 'j', 'k', 'l', 'm', 'n', 'o',\n",
    "            'p', 'q', 'r', 's', 't', 'u', 'v', 'w', 'x', 'y', 'z', \n",
    "           'A', 'B', 'C', 'D', 'E', 'F', 'G', 'H', 'I', 'J', 'K', 'L', 'M', 'N', 'O',\n",
    "           'P', 'Q', 'R', 'S', 'T', 'U', 'V', 'W', 'X', 'Y', 'Z']\n",
    "numbers = ['0', '1', '2', '3', '4', '5', '6', '7', '8', '9']\n",
    "symbols = ['!', '#', '$', '%', '&', '(', ')', '*', '+']\n",
    "import random\n",
    "random_word = []\n",
    "for i in range(0,how_many1):\n",
    "    letter_ran = random.choice(letters)\n",
    "    random_word.append(letter_ran)\n",
    "for i in range(0,how_many2):\n",
    "    num_ran = random.choice(numbers)\n",
    "    random_word.append(num_ran)\n",
    "for i in range(0,how_many3):\n",
    "    symbol_ran = random.choice(symbols)\n",
    "    random_word.append(symbol_ran)\n",
    "random.shuffle(random_word) # list를 랜덤으로 섞는 방법\n",
    "print(random_word)"
   ]
  }
 ],
 "metadata": {
  "kernelspec": {
   "display_name": "Python 3 (ipykernel)",
   "language": "python",
   "name": "python3"
  },
  "language_info": {
   "codemirror_mode": {
    "name": "ipython",
    "version": 3
   },
   "file_extension": ".py",
   "mimetype": "text/x-python",
   "name": "python",
   "nbconvert_exporter": "python",
   "pygments_lexer": "ipython3",
   "version": "3.8.3"
  }
 },
 "nbformat": 4,
 "nbformat_minor": 5
}
