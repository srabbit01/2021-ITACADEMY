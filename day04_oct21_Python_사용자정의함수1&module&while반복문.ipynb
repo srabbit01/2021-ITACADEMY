{
 "cells": [
  {
   "cell_type": "code",
   "execution_count": 99,
   "id": "ffae9af1",
   "metadata": {},
   "outputs": [],
   "source": [
    "from IPython.core.interactiveshell import InteractiveShell\n",
    "InteractiveShell.ast_node_interactivity = \"all\""
   ]
  },
  {
   "attachments": {
    "image-3.png": {
     "image/png": "[encoded data removed]"
    },
    "image-5.png": {
     "image/png": "[encoded data removed]"
    }
   },
   "cell_type": "markdown",
   "id": "0dcb636f",
   "metadata": {},
   "source": [
    "# 사용자 정의 함수 **\n",
    "- 사용자 정의 함수 만들기\n",
    "![image-5.png](attachment:image-5.png)\n",
    "- 만일 여러 숫자를 입력하려면 list로 만들어야 하는데, 이는\n",
    "![image-3.png](attachment:image-3.png)"
   ]
  },
  {
   "cell_type": "code",
   "execution_count": 1,
   "id": "5d698efc",
   "metadata": {},
   "outputs": [
    {
     "name": "stdout",
     "output_type": "stream",
     "text": [
      "출력값출력값출력값"
     ]
    }
   ],
   "source": [
    "print(\"출력값\", end=\"\")\n",
    "print(\"출력값\", end=\"\")\n",
    "print(\"출력값\", end=\"\")"
   ]
  },
  {
   "cell_type": "code",
   "execution_count": 61,
   "id": "95022279",
   "metadata": {},
   "outputs": [],
   "source": [
    "def 함수이름(x,y):\n",
    "    result = print(\"%s + %s = %s\" %(x,y,x+y)) # 입력한 일을 수행하는 것\n",
    "    return result # 보고서와 같음 -> 함수가 한 일의 결과물 (입력하지 않아도 괜찮음)"
   ]
  },
  {
   "cell_type": "code",
   "execution_count": 7,
   "id": "99e34615",
   "metadata": {},
   "outputs": [
    {
     "name": "stdout",
     "output_type": "stream",
     "text": [
      "3 + 5 = 8\n"
     ]
    }
   ],
   "source": [
    "함수이름(3,5)"
   ]
  },
  {
   "cell_type": "code",
   "execution_count": 9,
   "id": "16234e4d",
   "metadata": {},
   "outputs": [],
   "source": [
    "def 함수이름(*x): # 가변인수: 무제한으로 인수를 넣을 수 있음 (이는 list로 취급이 된다)\n",
    "    hap = 0\n",
    "    for i in x: # 가변형으로 가져온 인수는 list로 취급\n",
    "        hap += i\n",
    "    return (\"입력하신 숫자의 합은 %s 입니다.\" %(hap)) #함수 내부의 값을 가져온다."
   ]
  },
  {
   "cell_type": "code",
   "execution_count": 10,
   "id": "0f471233",
   "metadata": {},
   "outputs": [
    {
     "data": {
      "text/plain": [
       "'입력하신 숫자의 합은 1293 입니다.'"
      ]
     },
     "execution_count": 10,
     "metadata": {},
     "output_type": "execute_result"
    }
   ],
   "source": [
    "함수이름(2,3,4,653,578,53)"
   ]
  },
  {
   "cell_type": "markdown",
   "id": "5f347f22",
   "metadata": {},
   "source": [
    "실습)\n",
    "1. 두 숫자를 입력 받아서 큰 수에서 작은 수를 뺀 결과를 출력하는 함수를 만들어라.\n",
    "2. 여러 개의 숫자를 입력 받아서 가장 큰 값을 출력하는 함수를 만들어라.\n",
    "3. 임의의 갯수의 숫자를 입력 받아서 총 합을 출력하는 함수를 만들어라.\n",
    "4. 가장 큰 값에서 가장 작은 값을 뺀 결과를 출력하는 함수를 만들어라."
   ]
  },
  {
   "cell_type": "code",
   "execution_count": 23,
   "id": "8a14077f",
   "metadata": {},
   "outputs": [],
   "source": [
    "# 실습1: 두 숫자를 입력 받아서 큰 수에서 작은 수를 뺀 결과를 출력하는 함수를 만들어라.\n",
    "def function1(x,y):\n",
    "    if x > y:\n",
    "        print(\"x - y =\", x-y)\n",
    "    else:\n",
    "        print(\"y - x =\", y-x)"
   ]
  },
  {
   "cell_type": "code",
   "execution_count": 24,
   "id": "4c7004d8",
   "metadata": {},
   "outputs": [
    {
     "name": "stdout",
     "output_type": "stream",
     "text": [
      "y - x = 8\n"
     ]
    }
   ],
   "source": [
    "function1(2,10)"
   ]
  },
  {
   "cell_type": "code",
   "execution_count": 59,
   "id": "fce74bb4",
   "metadata": {},
   "outputs": [],
   "source": [
    "# 실습2: 여러 개의 숫자를 입력 받아서 가장 큰 값을 출력하는 함수를 만들어라.\n",
    "def function2(*x):\n",
    "    max = 0\n",
    "    for i in x:\n",
    "        if i > max:\n",
    "            max = i\n",
    "    print(\"가장 큰 값은 %s입니다.\" %(max))"
   ]
  },
  {
   "cell_type": "code",
   "execution_count": 60,
   "id": "62a3fce6",
   "metadata": {},
   "outputs": [
    {
     "name": "stdout",
     "output_type": "stream",
     "text": [
      "가장 큰 값은 495입니다.\n"
     ]
    }
   ],
   "source": [
    "function2(2,6,8,4,102,3,54,64,293,495)"
   ]
  },
  {
   "cell_type": "code",
   "execution_count": 8,
   "id": "2a441c71",
   "metadata": {},
   "outputs": [],
   "source": [
    "# 실습3: 임의의 갯수의 숫자를 입력 받아서 총 합을 출력하는 함수를 만들어라.\n",
    "def function3(*x):\n",
    "    num = 0\n",
    "    for i in x:\n",
    "        num += i\n",
    "    return num\n"
   ]
  },
  {
   "cell_type": "code",
   "execution_count": 13,
   "id": "1c2f5ea1",
   "metadata": {
    "scrolled": true
   },
   "outputs": [
    {
     "name": "stdout",
     "output_type": "stream",
     "text": [
      "총합은 1031 입니다\n"
     ]
    }
   ],
   "source": [
    "function3(2,6,8,4,102,3,54,64,293,495)\n",
    "\n",
    "num = function3(2,6,8,4,102,3,54,64,293,495)\n",
    "\n",
    "print(\"총합은 %s 입니다\" %num)"
   ]
  },
  {
   "cell_type": "code",
   "execution_count": 55,
   "id": "6506300d",
   "metadata": {},
   "outputs": [],
   "source": [
    "# 실습4: 가장 큰 값에서 가장 작은 값을 뺀 결과를 출력하는 함수를 만들어라.\n",
    "def function4(*x):\n",
    "    max = 0\n",
    "    for i in x:\n",
    "        if i > max:\n",
    "            max = i\n",
    "    min = max + 1\n",
    "    for j in x:\n",
    "        if j < min:\n",
    "            min = j\n",
    "    print(\"%s - %s = %s\" %(max,min,max-min))"
   ]
  },
  {
   "cell_type": "code",
   "execution_count": 56,
   "id": "234481d0",
   "metadata": {
    "scrolled": true
   },
   "outputs": [
    {
     "name": "stdout",
     "output_type": "stream",
     "text": [
      "495 - 2 = 493\n"
     ]
    }
   ],
   "source": [
    "function4(2,6,8,4,102,3,54,64,293,495)"
   ]
  },
  {
   "cell_type": "code",
   "execution_count": 66,
   "id": "8c0df34f",
   "metadata": {},
   "outputs": [],
   "source": [
    "def function4(*x):\n",
    "    max = x[0]\n",
    "    for i in x:\n",
    "        if i >= max:\n",
    "            max = i\n",
    "            \n",
    "    min = x[0]\n",
    "    for i in x:\n",
    "        if i <= min:\n",
    "            min = i\n",
    "            \n",
    "    print(max-min)"
   ]
  },
  {
   "cell_type": "code",
   "execution_count": 67,
   "id": "aff9e9ea",
   "metadata": {
    "scrolled": true
   },
   "outputs": [
    {
     "name": "stdout",
     "output_type": "stream",
     "text": [
      "493\n"
     ]
    }
   ],
   "source": [
    "function4(2,6,8,4,102,3,54,64,293,495)"
   ]
  },
  {
   "cell_type": "code",
   "execution_count": null,
   "id": "745caf91",
   "metadata": {},
   "outputs": [],
   "source": []
  },
  {
   "cell_type": "markdown",
   "id": "12dfe473",
   "metadata": {},
   "source": [
    "# Module(모듈)\n",
    "- 설치: 'pip install 모듈이름'\n",
    "- 아나콘다 설치: conda install 모듈이름\n",
    "- 구글 드라이브: !pip install 모듈이름\n",
    "- 원하는 버전의 모듈 설치: pip install 모듈이름==버전명\n",
    "- 설치된 모듈 목록 확인 방법: pip list\n",
    "- 설치된 모듈 중 업데이트 필요 모듈 확인 방법: pip list --outdated\n",
    "- 모듈 지우는 방법:cmd (관리자 권한 실행) -> pip uninstall 모듈명\n",
    "- 불러오는 것은 'import' 사용 -> 함수를 사용하려면 'module이름.함수이름()'으로 실행해야 한다.\n",
    "- 만일 특정 모듈에서 함수 하나만 가져오려면 ' from module이름 import 함수이름' 사용하며, 실행은 '함수이름()'\n",
    "- 파일 확장명이 'ipynb'로 두면 모듈로 부를 수 없기 때문에 모듈로 사용하기 위해서는 'py'로 저장해야 한다.\n",
    "- 다른 내용이 섞여 있으면 Error가 발생할 수 있기 때문에 함수에는 모듈만 있어야 한다."
   ]
  },
  {
   "cell_type": "markdown",
   "id": "1c906aae",
   "metadata": {},
   "source": [
    "- 파일로 모듈을 입력하기:import module이름\n",
    "- 모듈이름 단순화: import module이름 as 단순한이름  (ex) import matplotlib.pyplot as plt -> plt.show())\n",
    "- 다른 경로로 모듈 불러오기: import sys -> sys.path.append(\"불러올 디렉토리명\") -> import module이름\n",
    "- 모듈 속 하나의 함수만 가져오기: from module이름 import 함수이름"
   ]
  },
  {
   "cell_type": "code",
   "execution_count": 5,
   "id": "1b6f80dd",
   "metadata": {},
   "outputs": [
    {
     "name": "stdout",
     "output_type": "stream",
     "text": [
      "1\n"
     ]
    }
   ],
   "source": [
    "import day4_my_module\n",
    "day4_my_module.function4(3,4)"
   ]
  },
  {
   "cell_type": "code",
   "execution_count": 2,
   "id": "81c65adf",
   "metadata": {},
   "outputs": [
    {
     "name": "stdout",
     "output_type": "stream",
     "text": [
      "y - x = 3\n"
     ]
    }
   ],
   "source": [
    "import sys\n",
    "sys.path.append('C:\\\\py_temp\\\\made_newfile')\n",
    "import day4_my_module\n",
    "day4_my_module.function1(2,5)"
   ]
  },
  {
   "cell_type": "markdown",
   "id": "ad106b00",
   "metadata": {},
   "source": [
    "### Module 종류\n",
    "- OS: 윈도우 module로, 파일 관리 등 가능하다."
   ]
  },
  {
   "cell_type": "code",
   "execution_count": null,
   "id": "4b043938",
   "metadata": {},
   "outputs": [],
   "source": [
    "import os\n",
    "\n",
    "# 1. getcwd() = get current working directory\n",
    "os.getcwd()\n",
    "print(\"현재 디렉토리: \", os.getcwd())\n",
    "\n",
    "# 2. chdir() = change directory: 작업디렉토리 변경\n",
    "os.chdir('C:\\\\py_temp\\\\py_temp_sample') # 원하는 파일의 주소를 복사한 수 \\ 뒤에 \\ 하나 더 붙이기\n",
    "print(\"변경 후 디렉토리: \", os.getcwd())\n",
    "\n",
    "# 3. listdir(): 디렉토리가 가진 폴더 나열(확인)\n",
    "os.listdir(\"C:\\\\py_temp\")\n",
    "\n",
    "# 4. os.path.exists(\"디렉토리명\"): 디렉토리 존재여부 확인\n",
    "os.path.exists('C:\\\\py_temp\\\\py_temp_sample')\n",
    "os.path.exists('C:\\\\py_temp')\n",
    "\n",
    "# 5. mkdir/ makedirs: 새로운 디렉토리 만들기\n",
    "os.mkdir('C:\\\\py_temp\\\\py_temp_sample\\\\py_temp_sample_A') # 한개의 디렉토리 만들기\n",
    "os.makedirs('C:\\\\py_temp\\\\py_temp_sample\\\\py_temp_sample1\\\\py_temp_sample2') # 여러개의 파일 만들기 (단, 존재하는 디렉토리가 있으면 Error)\n",
    "\n",
    "# rmdir() / removedirs: 디렉토리 삭제\n",
    "os.rmdir('C:\\\\py_temp\\\\py_temp_sample\\\\py_temp_sample_A')\n",
    "os.removedirs('C:\\\\py_temp\\\\py_temp_sample\\\\py_temp_sample1\\\\py_temp_sample2')"
   ]
  },
  {
   "cell_type": "code",
   "execution_count": 83,
   "id": "928a23f5",
   "metadata": {},
   "outputs": [
    {
     "name": "stdout",
     "output_type": "stream",
     "text": [
      "현재 디렉토리:  C:\\py_temp\\py_temp_sample\n"
     ]
    }
   ],
   "source": [
    "import os\n",
    "os.getcwd()\n",
    "print(\"현재 디렉토리: \", os.getcwd())"
   ]
  },
  {
   "cell_type": "code",
   "execution_count": 88,
   "id": "5063937f",
   "metadata": {},
   "outputs": [
    {
     "name": "stdout",
     "output_type": "stream",
     "text": [
      "변경 후 디렉토리:  C:\\py_temp\n"
     ]
    }
   ],
   "source": [
    "os.chdir('C:\\\\py_temp')\n",
    "print(\"변경 후 디렉토리: \", os.getcwd())"
   ]
  },
  {
   "cell_type": "code",
   "execution_count": 85,
   "id": "966d1d98",
   "metadata": {
    "scrolled": true
   },
   "outputs": [
    {
     "data": {
      "text/plain": [
       "['.ipynb_checkpoints',\n",
       " 'class_file',\n",
       " 'day1_oct18_파이썬기초.ipynb',\n",
       " 'day2_oct19_조건문.ipynb',\n",
       " 'day3_oct20_for반복문.ipynb',\n",
       " 'day4_oct21.ipynb',\n",
       " 'day5_oct22.ipynb',\n",
       " 'my_module.ipynb',\n",
       " 'py_temp_sample',\n",
       " 'QUIZ.ipynb']"
      ]
     },
     "execution_count": 85,
     "metadata": {},
     "output_type": "execute_result"
    }
   ],
   "source": [
    "os.listdir(\"C:\\\\py_temp\")"
   ]
  },
  {
   "cell_type": "code",
   "execution_count": 100,
   "id": "29d520ba",
   "metadata": {},
   "outputs": [
    {
     "data": {
      "text/plain": [
       "False"
      ]
     },
     "execution_count": 100,
     "metadata": {},
     "output_type": "execute_result"
    },
    {
     "data": {
      "text/plain": [
       "True"
      ]
     },
     "execution_count": 100,
     "metadata": {},
     "output_type": "execute_result"
    }
   ],
   "source": [
    "os.path.exists('C:\\\\py_temp\\\\py_temp_sample')\n",
    "os.path.exists('C:\\\\py_temp')"
   ]
  },
  {
   "cell_type": "code",
   "execution_count": 92,
   "id": "7bbfa99c",
   "metadata": {},
   "outputs": [],
   "source": [
    "os.mkdir('C:\\\\py_temp\\\\py_temp_sample\\\\py_temp_sample_A')\n",
    "os.makedirs('C:\\\\py_temp\\\\py_temp_sample\\\\py_temp_sample1\\\\py_temp_sample2')"
   ]
  },
  {
   "cell_type": "code",
   "execution_count": 93,
   "id": "05d46dad",
   "metadata": {},
   "outputs": [],
   "source": [
    "os.rmdir('C:\\\\py_temp\\\\py_temp_sample\\\\py_temp_sample_A')\n",
    "os.removedirs('C:\\\\py_temp\\\\py_temp_sample\\\\py_temp_sample1\\\\py_temp_sample2')"
   ]
  },
  {
   "cell_type": "code",
   "execution_count": 1,
   "id": "567ed785",
   "metadata": {},
   "outputs": [
    {
     "name": "stdout",
     "output_type": "stream",
     "text": [
      "Help on built-in module math:\n",
      "\n",
      "NAME\n",
      "    math\n",
      "\n",
      "DESCRIPTION\n",
      "    This module provides access to the mathematical functions\n",
      "    defined by the C standard.\n",
      "\n",
      "FUNCTIONS\n",
      "    acos(x, /)\n",
      "        Return the arc cosine (measured in radians) of x.\n",
      "    \n",
      "    acosh(x, /)\n",
      "        Return the inverse hyperbolic cosine of x.\n",
      "    \n",
      "    asin(x, /)\n",
      "        Return the arc sine (measured in radians) of x.\n",
      "    \n",
      "    asinh(x, /)\n",
      "        Return the inverse hyperbolic sine of x.\n",
      "    \n",
      "    atan(x, /)\n",
      "        Return the arc tangent (measured in radians) of x.\n",
      "    \n",
      "    atan2(y, x, /)\n",
      "        Return the arc tangent (measured in radians) of y/x.\n",
      "        \n",
      "        Unlike atan(y/x), the signs of both x and y are considered.\n",
      "    \n",
      "    atanh(x, /)\n",
      "        Return the inverse hyperbolic tangent of x.\n",
      "    \n",
      "    ceil(x, /)\n",
      "        Return the ceiling of x as an Integral.\n",
      "        \n",
      "        This is the smallest integer >= x.\n",
      "    \n",
      "    comb(n, k, /)\n",
      "        Number of ways to choose k items from n items without repetition and without order.\n",
      "        \n",
      "        Evaluates to n! / (k! * (n - k)!) when k <= n and evaluates\n",
      "        to zero when k > n.\n",
      "        \n",
      "        Also called the binomial coefficient because it is equivalent\n",
      "        to the coefficient of k-th term in polynomial expansion of the\n",
      "        expression (1 + x)**n.\n",
      "        \n",
      "        Raises TypeError if either of the arguments are not integers.\n",
      "        Raises ValueError if either of the arguments are negative.\n",
      "    \n",
      "    copysign(x, y, /)\n",
      "        Return a float with the magnitude (absolute value) of x but the sign of y.\n",
      "        \n",
      "        On platforms that support signed zeros, copysign(1.0, -0.0)\n",
      "        returns -1.0.\n",
      "    \n",
      "    cos(x, /)\n",
      "        Return the cosine of x (measured in radians).\n",
      "    \n",
      "    cosh(x, /)\n",
      "        Return the hyperbolic cosine of x.\n",
      "    \n",
      "    degrees(x, /)\n",
      "        Convert angle x from radians to degrees.\n",
      "    \n",
      "    dist(p, q, /)\n",
      "        Return the Euclidean distance between two points p and q.\n",
      "        \n",
      "        The points should be specified as sequences (or iterables) of\n",
      "        coordinates.  Both inputs must have the same dimension.\n",
      "        \n",
      "        Roughly equivalent to:\n",
      "            sqrt(sum((px - qx) ** 2.0 for px, qx in zip(p, q)))\n",
      "    \n",
      "    erf(x, /)\n",
      "        Error function at x.\n",
      "    \n",
      "    erfc(x, /)\n",
      "        Complementary error function at x.\n",
      "    \n",
      "    exp(x, /)\n",
      "        Return e raised to the power of x.\n",
      "    \n",
      "    expm1(x, /)\n",
      "        Return exp(x)-1.\n",
      "        \n",
      "        This function avoids the loss of precision involved in the direct evaluation of exp(x)-1 for small x.\n",
      "    \n",
      "    fabs(x, /)\n",
      "        Return the absolute value of the float x.\n",
      "    \n",
      "    factorial(x, /)\n",
      "        Find x!.\n",
      "        \n",
      "        Raise a ValueError if x is negative or non-integral.\n",
      "    \n",
      "    floor(x, /)\n",
      "        Return the floor of x as an Integral.\n",
      "        \n",
      "        This is the largest integer <= x.\n",
      "    \n",
      "    fmod(x, y, /)\n",
      "        Return fmod(x, y), according to platform C.\n",
      "        \n",
      "        x % y may differ.\n",
      "    \n",
      "    frexp(x, /)\n",
      "        Return the mantissa and exponent of x, as pair (m, e).\n",
      "        \n",
      "        m is a float and e is an int, such that x = m * 2.**e.\n",
      "        If x is 0, m and e are both 0.  Else 0.5 <= abs(m) < 1.0.\n",
      "    \n",
      "    fsum(seq, /)\n",
      "        Return an accurate floating point sum of values in the iterable seq.\n",
      "        \n",
      "        Assumes IEEE-754 floating point arithmetic.\n",
      "    \n",
      "    gamma(x, /)\n",
      "        Gamma function at x.\n",
      "    \n",
      "    gcd(x, y, /)\n",
      "        greatest common divisor of x and y\n",
      "    \n",
      "    hypot(...)\n",
      "        hypot(*coordinates) -> value\n",
      "        \n",
      "        Multidimensional Euclidean distance from the origin to a point.\n",
      "        \n",
      "        Roughly equivalent to:\n",
      "            sqrt(sum(x**2 for x in coordinates))\n",
      "        \n",
      "        For a two dimensional point (x, y), gives the hypotenuse\n",
      "        using the Pythagorean theorem:  sqrt(x*x + y*y).\n",
      "        \n",
      "        For example, the hypotenuse of a 3/4/5 right triangle is:\n",
      "        \n",
      "            >>> hypot(3.0, 4.0)\n",
      "            5.0\n",
      "    \n",
      "    isclose(a, b, *, rel_tol=1e-09, abs_tol=0.0)\n",
      "        Determine whether two floating point numbers are close in value.\n",
      "        \n",
      "          rel_tol\n",
      "            maximum difference for being considered \"close\", relative to the\n",
      "            magnitude of the input values\n",
      "          abs_tol\n",
      "            maximum difference for being considered \"close\", regardless of the\n",
      "            magnitude of the input values\n",
      "        \n",
      "        Return True if a is close in value to b, and False otherwise.\n",
      "        \n",
      "        For the values to be considered close, the difference between them\n",
      "        must be smaller than at least one of the tolerances.\n",
      "        \n",
      "        -inf, inf and NaN behave similarly to the IEEE 754 Standard.  That\n",
      "        is, NaN is not close to anything, even itself.  inf and -inf are\n",
      "        only close to themselves.\n",
      "    \n",
      "    isfinite(x, /)\n",
      "        Return True if x is neither an infinity nor a NaN, and False otherwise.\n",
      "    \n",
      "    isinf(x, /)\n",
      "        Return True if x is a positive or negative infinity, and False otherwise.\n",
      "    \n",
      "    isnan(x, /)\n",
      "        Return True if x is a NaN (not a number), and False otherwise.\n",
      "    \n",
      "    isqrt(n, /)\n",
      "        Return the integer part of the square root of the input.\n",
      "    \n",
      "    ldexp(x, i, /)\n",
      "        Return x * (2**i).\n",
      "        \n",
      "        This is essentially the inverse of frexp().\n",
      "    \n",
      "    lgamma(x, /)\n",
      "        Natural logarithm of absolute value of Gamma function at x.\n",
      "    \n",
      "    log(...)\n",
      "        log(x, [base=math.e])\n",
      "        Return the logarithm of x to the given base.\n",
      "        \n",
      "        If the base not specified, returns the natural logarithm (base e) of x.\n",
      "    \n",
      "    log10(x, /)\n",
      "        Return the base 10 logarithm of x.\n",
      "    \n",
      "    log1p(x, /)\n",
      "        Return the natural logarithm of 1+x (base e).\n",
      "        \n",
      "        The result is computed in a way which is accurate for x near zero.\n",
      "    \n",
      "    log2(x, /)\n",
      "        Return the base 2 logarithm of x.\n",
      "    \n",
      "    modf(x, /)\n",
      "        Return the fractional and integer parts of x.\n",
      "        \n",
      "        Both results carry the sign of x and are floats.\n",
      "    \n",
      "    perm(n, k=None, /)\n",
      "        Number of ways to choose k items from n items without repetition and with order.\n",
      "        \n",
      "        Evaluates to n! / (n - k)! when k <= n and evaluates\n",
      "        to zero when k > n.\n",
      "        \n",
      "        If k is not specified or is None, then k defaults to n\n",
      "        and the function returns n!.\n",
      "        \n",
      "        Raises TypeError if either of the arguments are not integers.\n",
      "        Raises ValueError if either of the arguments are negative.\n",
      "    \n",
      "    pow(x, y, /)\n",
      "        Return x**y (x to the power of y).\n",
      "    \n",
      "    prod(iterable, /, *, start=1)\n",
      "        Calculate the product of all the elements in the input iterable.\n",
      "        \n",
      "        The default start value for the product is 1.\n",
      "        \n",
      "        When the iterable is empty, return the start value.  This function is\n",
      "        intended specifically for use with numeric values and may reject\n",
      "        non-numeric types.\n",
      "    \n",
      "    radians(x, /)\n",
      "        Convert angle x from degrees to radians.\n",
      "    \n",
      "    remainder(x, y, /)\n",
      "        Difference between x and the closest integer multiple of y.\n",
      "        \n",
      "        Return x - n*y where n*y is the closest integer multiple of y.\n",
      "        In the case where x is exactly halfway between two multiples of\n",
      "        y, the nearest even value of n is used. The result is always exact.\n",
      "    \n",
      "    sin(x, /)\n",
      "        Return the sine of x (measured in radians).\n",
      "    \n",
      "    sinh(x, /)\n",
      "        Return the hyperbolic sine of x.\n",
      "    \n",
      "    sqrt(x, /)\n",
      "        Return the square root of x.\n",
      "    \n",
      "    tan(x, /)\n",
      "        Return the tangent of x (measured in radians).\n",
      "    \n",
      "    tanh(x, /)\n",
      "        Return the hyperbolic tangent of x.\n",
      "    \n",
      "    trunc(x, /)\n",
      "        Truncates the Real x to the nearest Integral toward 0.\n",
      "        \n",
      "        Uses the __trunc__ magic method.\n",
      "\n",
      "DATA\n",
      "    e = 2.718281828459045\n",
      "    inf = inf\n",
      "    nan = nan\n",
      "    pi = 3.141592653589793\n",
      "    tau = 6.283185307179586\n",
      "\n",
      "FILE\n",
      "    (built-in)\n",
      "\n",
      "\n"
     ]
    }
   ],
   "source": [
    "import math\n",
    "help(math)"
   ]
  },
  {
   "cell_type": "code",
   "execution_count": null,
   "id": "14ff0447",
   "metadata": {},
   "outputs": [],
   "source": []
  },
  {
   "attachments": {
    "image.png": {
     "image/png": "[encoded data removed]"
    }
   },
   "cell_type": "markdown",
   "id": "118758f4",
   "metadata": {},
   "source": [
    "# Text(txt) 파일 관리하기\n",
    "1. open: open 시 open 옵션이 중요\n",
    "![image.png](attachment:image.png)\n",
    "- w = (over) write: 덮어쓰기(기존 내용 삭제, 새로운 내용 저장)\n",
    "- a = append: 추가 = 기존내용 + 새로운내용\n",
    "2. write\n",
    "3. close"
   ]
  },
  {
   "cell_type": "code",
   "execution_count": 3,
   "id": "07d25b1b",
   "metadata": {},
   "outputs": [
    {
     "data": {
      "text/plain": [
       "'C:\\\\py_temp'"
      ]
     },
     "execution_count": 3,
     "metadata": {},
     "output_type": "execute_result"
    }
   ],
   "source": [
    "import os\n",
    "os.getcwd()"
   ]
  },
  {
   "cell_type": "code",
   "execution_count": 116,
   "id": "57d9f2c5",
   "metadata": {},
   "outputs": [
    {
     "data": {
      "text/plain": [
       "18"
      ]
     },
     "execution_count": 116,
     "metadata": {},
     "output_type": "execute_result"
    }
   ],
   "source": [
    "# 새로운 파일 만들기\n",
    "file = open(\"test1.txt\", \"w\")\n",
    "file.write(\"텍스트 파일에 첫 번째로 쓰는 글\")\n",
    "file.close()"
   ]
  },
  {
   "cell_type": "code",
   "execution_count": 118,
   "id": "651ee94c",
   "metadata": {},
   "outputs": [
    {
     "data": {
      "text/plain": [
       "18"
      ]
     },
     "execution_count": 118,
     "metadata": {},
     "output_type": "execute_result"
    }
   ],
   "source": [
    "# 덮어쓰기\n",
    "file = open(\"test1.txt\", \"w\")\n",
    "file.write(\"텍스트 파일에 두 번째로 쓰는 글\") # ovewrite\n",
    "file.close()"
   ]
  },
  {
   "cell_type": "code",
   "execution_count": 120,
   "id": "2e2c46d1",
   "metadata": {},
   "outputs": [
    {
     "data": {
      "text/plain": [
       "19"
      ]
     },
     "execution_count": 120,
     "metadata": {},
     "output_type": "execute_result"
    }
   ],
   "source": [
    "# 새로운 내용 추가하기\n",
    "file = open(\"test1.txt\", \"a\")\n",
    "file.write(\"\\n텍스트 파일에 세 번째로 쓰는 글\") # \\n은 줄바꿈\n",
    "file.close()"
   ]
  },
  {
   "cell_type": "code",
   "execution_count": 122,
   "id": "788f0764",
   "metadata": {},
   "outputs": [
    {
     "data": {
      "text/plain": [
       "['텍스트 파일에 두 번째로 쓰는 글\\n', '텍스트 파일에 세 번째로 쓰는 글\\n', '텍스트 파일에 세 번째로 쓰는 글']"
      ]
     },
     "execution_count": 122,
     "metadata": {},
     "output_type": "execute_result"
    }
   ],
   "source": [
    "# txt 파일 내용 읽어오기\n",
    "f = open(\"C:\\\\py_temp\\\\test1.txt\", \"r\") # 만일 현재 파일과 불러올 txt 파일의 경로가 다르면 경로 설정\n",
    "f.readlines()\n",
    "\n",
    "# tip: 작업하는 폴더의 하위 폴더 txt를 불러올 경우, 현재 폴더의 경로는 생략하고 그 이하부터 경로를 설정하면 된다."
   ]
  },
  {
   "cell_type": "code",
   "execution_count": 4,
   "id": "02835352",
   "metadata": {},
   "outputs": [
    {
     "data": {
      "text/plain": [
       "['텍스트 파일에 두 번째로 쓰는 글\\n', '텍스트 파일에 세 번째로 쓰는 글\\n', '텍스트 파일에 세 번째로 쓰는 글']"
      ]
     },
     "execution_count": 4,
     "metadata": {},
     "output_type": "execute_result"
    }
   ],
   "source": [
    "# txt 파일 내용 읽어오기\n",
    "f = open(\"test1.txt\", \"r\") # 만일 현재 파일과 불러올 txt 파일의 경로가 같으면 경로 설정 필요 x\n",
    "f.readlines()"
   ]
  },
  {
   "cell_type": "code",
   "execution_count": 12,
   "id": "92425f96",
   "metadata": {},
   "outputs": [
    {
     "data": {
      "text/plain": [
       "['텍스트 파일에 두 번째로 쓰는 글\\n', '텍스트 파일에 세 번째로 쓰는 글\\n', '텍스트 파일에 세 번째로 쓰는 글']"
      ]
     },
     "execution_count": 12,
     "metadata": {},
     "output_type": "execute_result"
    }
   ],
   "source": [
    "# list 형태로 데이터 불러오기\n",
    "f = open(\"test1.txt\", \"r\")\n",
    "f_list = f.readlines() # readline은 데이터를 list 형태로 불러오는 것. 이러면 리스트를 변수에 저장하여 리스트로 활용 가능\n",
    "f_list # readline은 한줄만 가져오고 모든 문장을 가져오려면 readlines 입력"
   ]
  },
  {
   "cell_type": "code",
   "execution_count": 9,
   "id": "f67c6ec8",
   "metadata": {},
   "outputs": [
    {
     "name": "stdout",
     "output_type": "stream",
     "text": [
      "\n"
     ]
    }
   ],
   "source": []
  },
  {
   "cell_type": "markdown",
   "id": "9abe0a03",
   "metadata": {},
   "source": [
    "# csv/xls 파일 저장하기\n",
    "1. 리스트를 만든다.\n",
    "2. 리스를 합해서 데이터 프레임을 만든다.\n",
    "3. 데이터 프레임을 저장한다.\n",
    "- 주의: csv는 txt 파일이다"
   ]
  },
  {
   "cell_type": "code",
   "execution_count": 6,
   "id": "0146b69b",
   "metadata": {
    "scrolled": true
   },
   "outputs": [
    {
     "name": "stdout",
     "output_type": "stream",
     "text": [
      "[1, 2, 3]\n",
      "['수학', '과학', '빅데이터']\n"
     ]
    }
   ],
   "source": [
    "import pandas as pd\n",
    "\n",
    "no = []\n",
    "subject_name = []\n",
    "\n",
    "no.extend([1,2,3,])\n",
    "subject_name.extend(['수학','과학','빅데이터'])\n",
    "\n",
    "print(no)\n",
    "print(subject_name)\n",
    "\n",
    "subject = pd.DataFrame() # subject라는 이름의 데이터 프레임을 만들 것을 선언\n",
    "subject['과목번호'] = no # header 만들기\n",
    "subject['과목명'] = subject_name"
   ]
  },
  {
   "cell_type": "code",
   "execution_count": 7,
   "id": "b5d62f0c",
   "metadata": {},
   "outputs": [
    {
     "name": "stdout",
     "output_type": "stream",
     "text": [
      "   과목번호   과목명\n",
      "0     1    수학\n",
      "1     2    과학\n",
      "2     3  빅데이터\n"
     ]
    }
   ],
   "source": [
    "print(subject)"
   ]
  },
  {
   "cell_type": "code",
   "execution_count": 1,
   "id": "543e9f1a",
   "metadata": {
    "scrolled": true
   },
   "outputs": [
    {
     "ename": "NameError",
     "evalue": "name 'subject' is not defined",
     "output_type": "error",
     "traceback": [
      "\u001b[1;31m---------------------------------------------------------------------------\u001b[0m",
      "\u001b[1;31mNameError\u001b[0m                                 Traceback (most recent call last)",
      "\u001b[1;32m<ipython-input-1-e4b15f546084>\u001b[0m in \u001b[0;36m<module>\u001b[1;34m\u001b[0m\n\u001b[0;32m      1\u001b[0m \u001b[1;31m# csv로 저장하기\u001b[0m\u001b[1;33m\u001b[0m\u001b[1;33m\u001b[0m\u001b[1;33m\u001b[0m\u001b[0m\n\u001b[1;32m----> 2\u001b[1;33m \u001b[0msubject\u001b[0m\u001b[1;33m.\u001b[0m\u001b[0mto_csv\u001b[0m\u001b[1;33m(\u001b[0m\u001b[1;34m\"C:\\\\py_temp\\\\test_csv.csv\"\u001b[0m\u001b[1;33m)\u001b[0m \u001b[1;31m# 엑셀로 저장 -> ncoding option\u001b[0m\u001b[1;33m\u001b[0m\u001b[1;33m\u001b[0m\u001b[0m\n\u001b[0m\u001b[0;32m      3\u001b[0m \u001b[0msubject\u001b[0m\u001b[1;33m.\u001b[0m\u001b[0mto_csv\u001b[0m\u001b[1;33m(\u001b[0m\u001b[1;34m\"C:\\\\py_temp\\\\test_csv.csv\"\u001b[0m\u001b[1;33m,\u001b[0m \u001b[0mindex\u001b[0m\u001b[1;33m=\u001b[0m\u001b[1;32mFalse\u001b[0m\u001b[1;33m)\u001b[0m\u001b[1;33m\u001b[0m\u001b[1;33m\u001b[0m\u001b[0m\n\u001b[0;32m      4\u001b[0m \u001b[0msubject\u001b[0m\u001b[1;33m.\u001b[0m\u001b[0mto_csv\u001b[0m\u001b[1;33m(\u001b[0m\u001b[1;34m\"C:\\\\py_temp\\\\test_csv.txt\"\u001b[0m\u001b[1;33m)\u001b[0m \u001b[1;31m# 파일을 txt 파일로 저장하기\u001b[0m\u001b[1;33m\u001b[0m\u001b[1;33m\u001b[0m\u001b[0m\n\u001b[0;32m      5\u001b[0m \u001b[1;33m\u001b[0m\u001b[0m\n",
      "\u001b[1;31mNameError\u001b[0m: name 'subject' is not defined"
     ]
    }
   ],
   "source": [
    "# csv로 저장하기\n",
    "subject.to_csv(\"C:\\\\py_temp\\\\test_csv.csv\") # 엑셀로 저장 -> ncoding option\n",
    "subject.to_csv(\"C:\\\\py_temp\\\\test_csv.csv\", index=False)\n",
    "subject.to_csv(\"C:\\\\py_temp\\\\test_csv.txt\") # 파일을 txt 파일로 저장하기\n",
    "\n",
    "import xlwt\n",
    "#xls로 저장하기\n",
    "subject.to_excel(\"C:\\\\py_temp\\\\test_xls.xls\")\n",
    "\n",
    "#xlsx로 저장하기\n",
    "subject.to_excel(\"C:\\\\py_temp\\\\test_xlsx.xlsx\")"
   ]
  },
  {
   "cell_type": "code",
   "execution_count": 35,
   "id": "03f39115",
   "metadata": {
    "scrolled": false
   },
   "outputs": [
    {
     "data": {
      "text/html": [
       "<div>\n",
       "<style scoped>\n",
       "    .dataframe tbody tr th:only-of-type {\n",
       "        vertical-align: middle;\n",
       "    }\n",
       "\n",
       "    .dataframe tbody tr th {\n",
       "        vertical-align: top;\n",
       "    }\n",
       "\n",
       "    .dataframe thead th {\n",
       "        text-align: right;\n",
       "    }\n",
       "</style>\n",
       "<table border=\"1\" class=\"dataframe\">\n",
       "  <thead>\n",
       "    <tr style=\"text-align: right;\">\n",
       "      <th></th>\n",
       "      <th>과목번호</th>\n",
       "      <th>과목명</th>\n",
       "    </tr>\n",
       "  </thead>\n",
       "  <tbody>\n",
       "    <tr>\n",
       "      <th>0</th>\n",
       "      <td>1</td>\n",
       "      <td>수학</td>\n",
       "    </tr>\n",
       "    <tr>\n",
       "      <th>1</th>\n",
       "      <td>2</td>\n",
       "      <td>과학</td>\n",
       "    </tr>\n",
       "    <tr>\n",
       "      <th>2</th>\n",
       "      <td>3</td>\n",
       "      <td>빅데이터</td>\n",
       "    </tr>\n",
       "  </tbody>\n",
       "</table>\n",
       "</div>"
      ],
      "text/plain": [
       "   과목번호   과목명\n",
       "0     1    수학\n",
       "1     2    과학\n",
       "2     3  빅데이터"
      ]
     },
     "execution_count": 35,
     "metadata": {},
     "output_type": "execute_result"
    }
   ],
   "source": [
    "import pandas as pd\n",
    "data = pd.read_csv(\"test_csv.csv\")\n",
    "data"
   ]
  },
  {
   "cell_type": "code",
   "execution_count": 20,
   "id": "1dd921f9",
   "metadata": {
    "scrolled": true
   },
   "outputs": [
    {
     "data": {
      "text/html": [
       "<div>\n",
       "<style scoped>\n",
       "    .dataframe tbody tr th:only-of-type {\n",
       "        vertical-align: middle;\n",
       "    }\n",
       "\n",
       "    .dataframe tbody tr th {\n",
       "        vertical-align: top;\n",
       "    }\n",
       "\n",
       "    .dataframe thead th {\n",
       "        text-align: right;\n",
       "    }\n",
       "</style>\n",
       "<table border=\"1\" class=\"dataframe\">\n",
       "  <thead>\n",
       "    <tr style=\"text-align: right;\">\n",
       "      <th></th>\n",
       "      <th>Unnamed: 0</th>\n",
       "      <th>과목번호</th>\n",
       "      <th>과목명</th>\n",
       "    </tr>\n",
       "  </thead>\n",
       "  <tbody>\n",
       "    <tr>\n",
       "      <th>0</th>\n",
       "      <td>0</td>\n",
       "      <td>1</td>\n",
       "      <td>수학</td>\n",
       "    </tr>\n",
       "    <tr>\n",
       "      <th>1</th>\n",
       "      <td>1</td>\n",
       "      <td>2</td>\n",
       "      <td>과학</td>\n",
       "    </tr>\n",
       "    <tr>\n",
       "      <th>2</th>\n",
       "      <td>2</td>\n",
       "      <td>3</td>\n",
       "      <td>빅데이터</td>\n",
       "    </tr>\n",
       "  </tbody>\n",
       "</table>\n",
       "</div>"
      ],
      "text/plain": [
       "   Unnamed: 0  과목번호   과목명\n",
       "0           0     1    수학\n",
       "1           1     2    과학\n",
       "2           2     3  빅데이터"
      ]
     },
     "execution_count": 20,
     "metadata": {},
     "output_type": "execute_result"
    }
   ],
   "source": [
    "data = pd.read_excel(\"test_xlsx.xlsx\", sheet_name=\"Sheet1\" ) # 엑셀의 경우 sheet 이름을 지명해야 한다.\n",
    "\n",
    "data\n",
    "\n",
    "data2 = pd.read_excel(\"test_xls.xls\" ) # ㄴsheet1의 경우 특별히 지명하지 않아도 출력된다.\n",
    "\n",
    "data2"
   ]
  },
  {
   "cell_type": "code",
   "execution_count": null,
   "id": "50217a8c",
   "metadata": {},
   "outputs": [],
   "source": []
  },
  {
   "attachments": {
    "image-2.png": {
     "image/png": "[encoded data removed]"
    }
   },
   "cell_type": "markdown",
   "id": "0cac2279",
   "metadata": {},
   "source": [
    "# While 반복문\n",
    "![image-2.png](attachment:image-2.png)\n",
    "- 반복횟수를 정해주지 않아, 조건에 충족하는 한 무한히 반복된다.(종료를 결정하는 요소를 설정해야 함)\n",
    "- while 문은 조건이 '참'인 한에서 계속 돌아간다.\n",
    "- 반복 조건을 증감하는 문장: Loop이 끝날 수 있도록 반복 조건을 끝내주는 terminator가 필요하다. 반드시 exit 조건을 채울 수 있도록 코드를 짜야 한다.\n",
    "- 반대로 while의 역(거짓)은 'while not 조건:\"으로 표기한다."
   ]
  },
  {
   "cell_type": "code",
   "execution_count": null,
   "id": "6fa692e2",
   "metadata": {},
   "outputs": [],
   "source": [
    "# while문의 조건이 '참'인 한 계속해서 돌아간다.\n",
    "while 3 > 5:\n",
    "    print(\"참이다.\")\n",
    "\n",
    "# while문의 조건이 '거짓'인 한 계속해서 돌아간다.\n",
    "while not 3 > 5: \n",
    "    print(\"거짓이다.\")"
   ]
  },
  {
   "cell_type": "code",
   "execution_count": 41,
   "id": "da589219",
   "metadata": {},
   "outputs": [
    {
     "name": "stdout",
     "output_type": "stream",
     "text": [
      "1\n",
      "3\n",
      "5\n",
      "7\n"
     ]
    }
   ],
   "source": [
    "no = 1\n",
    "while no < 9: # 9가 9보다 작은 것은 거짓이기 때문에 출력되지 않는다.\n",
    "    print(no)\n",
    "    no += 2"
   ]
  },
  {
   "cell_type": "code",
   "execution_count": 45,
   "id": "0d38f1e8",
   "metadata": {},
   "outputs": [
    {
     "name": "stdout",
     "output_type": "stream",
     "text": [
      "2\n",
      "4\n",
      "6\n",
      "8\n",
      "10\n"
     ]
    }
   ],
   "source": [
    "# 10 이하 짝수를 구하여라.\n",
    "no = 2\n",
    "while no < 11:\n",
    "    print(no)\n",
    "    no += 2"
   ]
  },
  {
   "cell_type": "markdown",
   "id": "db117188",
   "metadata": {},
   "source": [
    "실습) 1. 숫자를 입력받아 구구단 출력하는 코드를 작성해라. (While loop 사용)"
   ]
  },
  {
   "cell_type": "code",
   "execution_count": 3,
   "id": "a17e8771",
   "metadata": {},
   "outputs": [
    {
     "name": "stdout",
     "output_type": "stream",
     "text": [
      "숫자를 입력하시오: 5\n",
      "5 x 1 = 5\n",
      "5 x 2 = 10\n",
      "5 x 3 = 15\n",
      "5 x 4 = 20\n",
      "5 x 5 = 25\n",
      "5 x 6 = 30\n",
      "5 x 7 = 35\n",
      "5 x 8 = 40\n",
      "5 x 9 = 45\n",
      "5 x 10 = 50\n"
     ]
    }
   ],
   "source": [
    "no = int(input(\"숫자를 입력하시오: \"))\n",
    "num = 1\n",
    "while num < 11:\n",
    "    print(\"%s x %s = %s\" %(no,num,no*num))\n",
    "    num += 1"
   ]
  },
  {
   "cell_type": "markdown",
   "id": "e1f5a924",
   "metadata": {},
   "source": [
    "## 반복문에서 사용되는 'break'와 'continue'\n",
    "1. break: 반복문을 깨버린다. (반복문의 끝을 선언) -> 이후의 값들은 출력되지 x\n",
    "2. continue: 특정 요소만 뺀다. (반복문 중 일부를 제거)\n",
    "3. pass: 실행할 코드가 없는 것으로 다음 행동을 계속해서 진행합니다. (반복문에서 큰 영향 x)\n",
    "- 조건문에서 넣어줄 조건이 특별히 없는 경우\n",
    "- class 선언 시, 초기 넣어줄 값이 없는 경우"
   ]
  },
  {
   "cell_type": "code",
   "execution_count": 11,
   "id": "cbfb4186",
   "metadata": {},
   "outputs": [
    {
     "name": "stdout",
     "output_type": "stream",
     "text": [
      "새우깡 참 맛있다!\n",
      "감자깡 참 맛있다!\n",
      "고구마깡 참 맛있다!\n",
      "loop이 끝남\n"
     ]
    }
   ],
   "source": [
    "snack = [\"새우깡\", \"감자깡\", \"고구마깡\", \"맛동산\", \"자갈치\", \"포테이토칩\", \"수미칩\"]\n",
    "\n",
    "for i in snack:\n",
    "    if i == \"맛동산\":\n",
    "        break # 맛동산 이후의 값들은 출력되지 않는다.\n",
    "        \n",
    "    print(i, \"참 맛있다!\")\n",
    "print(\"loop이 끝남\")"
   ]
  },
  {
   "cell_type": "code",
   "execution_count": 12,
   "id": "e6540d07",
   "metadata": {},
   "outputs": [
    {
     "name": "stdout",
     "output_type": "stream",
     "text": [
      "새우깡 참 맛있다!\n",
      "감자깡 참 맛있다!\n",
      "고구마깡 참 맛있다!\n",
      "자갈치 참 맛있다!\n",
      "포테이토칩 참 맛있다!\n",
      "수미칩 참 맛있다!\n",
      "loop이 끝남\n"
     ]
    }
   ],
   "source": [
    "# continue: 맛동산은 싫은데 나머지는 좋을때\n",
    "snack = [\"새우깡\", \"감자깡\", \"고구마깡\", \"맛동산\", \"자갈치\", \"포테이토칩\", \"수미칩\"]\n",
    "\n",
    "for i in snack:\n",
    "    if i == \"맛동산\":\n",
    "        continue # 맛동산 이후의 값만 출력되지 않는다.\n",
    "        \n",
    "    print(i, \"참 맛있다!\")\n",
    "print(\"loop이 끝남\")"
   ]
  },
  {
   "attachments": {
    "image.png": {
     "image/png": "[encoded data removed]"
    }
   },
   "cell_type": "markdown",
   "id": "e40ec83d",
   "metadata": {},
   "source": [
    "![image.png](attachment:image.png)"
   ]
  },
  {
   "cell_type": "code",
   "execution_count": 11,
   "id": "2b8b24c3",
   "metadata": {},
   "outputs": [
    {
     "name": "stdout",
     "output_type": "stream",
     "text": [
      "['1. 짜장면 = 5,000원', '2. 짬뽕 - 6,000원', '3. 군만두 - 8,000원', '4. 탕수육 - 10,000원']\n",
      "\n",
      "1. 위 메뉴 중 주문할 메뉴의 번호를 쓰세요: 1\n",
      "2. 위 메뉴의 주문 수량을 쓰세요: 2\n",
      "\n",
      "주문하신 메뉴는 짜장면이고 주문 수량은 2 그릇이며 주문금액은 10000입니다.\n",
      "\n",
      "\n",
      "3. 추가 주문을 하시겠습니다? (y/n): Y\n",
      "4. 위 메뉴 중 주문할 메뉴의 번호를 쓰세요: 1\n",
      "5. 위 메뉴의 주문 수량을 쓰세요: 2\n",
      "\n",
      "3. 추가 주문을 하시겠습니다? (y/n): n\n",
      "\n",
      "최종 주문금액은 20000입니다.\n"
     ]
    }
   ],
   "source": [
    "menu = [\"1. 짜장면 = 5,000원\", \"2. 짬뽕 - 6,000원\", \"3. 군만두 - 8,000원\", \"4. 탕수육 - 10,000원\"]\n",
    "menu2 = [\"짜장면\", \"짬뽕\", \"군만두\", \"탕수육\"]\n",
    "cost = [5000, 6000, 8000, 10000]\n",
    "\n",
    "print(menu)\n",
    "print()\n",
    "menu_input = int(input(\"1. 위 메뉴 중 주문할 메뉴의 번호를 쓰세요: \"))\n",
    "many_input = int(input(\"2. 위 메뉴의 주문 수량을 쓰세요: \"))\n",
    "a = menu2[(menu_input)-1]\n",
    "b = int(cost[(menu_input)-1])*many_input\n",
    "print()\n",
    "print(\"주문하신 메뉴는 %s이고 주문 수량은 %s 그릇이며 주문금액은 %s입니다.\" %(a, many_input, b))\n",
    "print()\n",
    "no = 1\n",
    "d = 0\n",
    "while no < 3:\n",
    "    menu_plus = input(\"\\n3. 추가 주문을 하시겠습니다? (y/n): \")\n",
    "    if menu_plus.lower() == \"y\": # 입력자가 대문자로 입력할 수 있기 때문에 '변수.lower()' 입력\n",
    "        menu_input2 = int(input(\"4. 위 메뉴 중 주문할 메뉴의 번호를 쓰세요: \"))\n",
    "        many_input2 = int(input(\"5. 위 메뉴의 주문 수량을 쓰세요: \"))\n",
    "        c = int(cost[(menu_input2)-1])*many_input2\n",
    "    else:\n",
    "        break\n",
    "    no += 1\n",
    "    d += c\n",
    "e = b + d\n",
    "print()\n",
    "print(\"최종 주문금액은 %s입니다.\" %e)"
   ]
  },
  {
   "cell_type": "code",
   "execution_count": 2,
   "id": "6eaef200",
   "metadata": {},
   "outputs": [
    {
     "name": "stdout",
     "output_type": "stream",
     "text": [
      "\n",
      "1. 짜장면 - 5000원   2.짬뽕 - 6000\n",
      "3. 군만두 - 8000원   4.탕수육 - 10,000원\n",
      "\n",
      "1. 위 메뉴 중 주문할 메뉴의 번호를 쓰세요 : 1\n",
      "2. 위 메뉴의 주문 수량을 쓰세요:2\n",
      "주문하신 메뉴는 짜장면 수량은 2그릇이며, 가격은 10000입니다\n",
      "주문을 다시 하시겠습니까? (y/n)n\n"
     ]
    }
   ],
   "source": [
    "다시 = \"y\"\n",
    "주문횟수 = 0\n",
    "\n",
    "\n",
    "while 다시.lower() == \"y\":\n",
    "    주문횟수 += 1 \n",
    "    if 주문횟수 >= 4:\n",
    "        print(\"재주문 횟수는 2회로 제한합니다.\")\n",
    "        break\n",
    "    \n",
    "    \n",
    "    메뉴번호 = input('''\n",
    "1. 짜장면 - 5000원   2.짬뽕 - 6000\n",
    "3. 군만두 - 8000원   4.탕수육 - 10,000원\n",
    "\n",
    "1. 위 메뉴 중 주문할 메뉴의 번호를 쓰세요 : ''')\n",
    "\n",
    "    수량 = int(input(\"2. 위 메뉴의 주문 수량을 쓰세요:\"))\n",
    "\n",
    "\n",
    "    가격 = 0\n",
    "    if 메뉴번호 == \"1\":\n",
    "        가격 = 5000\n",
    "        메뉴이름 = \"짜장면\"\n",
    "\n",
    "    elif 메뉴번호 == '2':\n",
    "        가격 = 6000\n",
    "        메뉴이름 = \"짬뽕\"\n",
    "        \n",
    "    elif 메뉴번호 == \"3\":\n",
    "        가격 = 8000\n",
    "        메뉴이름 = \"군만두\"\n",
    "    else :\n",
    "        가격 = 10000\n",
    "        메뉴이름 = \"탕수육\"\n",
    "\n",
    "    print(\"주문하신 메뉴는 %s 수량은 %s그릇이며, 가격은 %s입니다\"  %(메뉴이름, 수량, 가격*수량))\n",
    "\n",
    "\n",
    "\n",
    "    #다시가 끝날2 수 있도록\n",
    "    다시 = input(\"주문을 다시 하시겠습니까? (y/n)\")"
   ]
  },
  {
   "cell_type": "code",
   "execution_count": 1,
   "id": "a470e735",
   "metadata": {},
   "outputs": [
    {
     "name": "stdout",
     "output_type": "stream",
     "text": [
      "\n",
      "1. 짜장면 - 5,000원   2. 짬뽕 - 6,000원\n",
      "3. 군만두 - 8,000원   4. 탕수육 - 10,000원\n",
      "    \n",
      "1. 위 메뉴 중 주문할 메뉴와 번호를 적으시오: 1\n",
      "2. 위 메뉴의 주문 수량을 적으시오: 2\n",
      "주문하신 메뉴는 탕수육이고 수량은 10000 그릇이며, 최종 주문금액은 20000입니다.\n",
      "주문을 다시하시겠습니까? (y/n) n\n"
     ]
    }
   ],
   "source": [
    "# 재학습\n",
    "repeat = \"y\"\n",
    "re_num = 0\n",
    "\n",
    "while repeat.lower() == \"y\":\n",
    "    re_num += 1\n",
    "    if re_num >= 4:\n",
    "        print(\"재주문 횟수는 최대 2회입니다.\")\n",
    "        break\n",
    "    \n",
    "    menu_num = int(input('''\n",
    "1. 짜장면 - 5,000원   2. 짬뽕 - 6,000원\n",
    "3. 군만두 - 8,000원   4. 탕수육 - 10,000원\n",
    "    \n",
    "1. 위 메뉴 중 주문할 메뉴와 번호를 적으시오: '''))\n",
    "    \n",
    "    many_menu = int(input(\"2. 위 메뉴의 주문 수량을 적으시오: \"))\n",
    "    \n",
    "    cost = 0\n",
    "    if menu_num == '1':\n",
    "        cost = 5000\n",
    "        menu = \"짜장면\"\n",
    "    elif menu_num == '2':\n",
    "        cost = 6000\n",
    "        menu = \"짬뽕\"\n",
    "    elif menu_num == '3':\n",
    "        cost = 8000\n",
    "        menu = \"군만두\"\n",
    "    else:\n",
    "        cost = 10000\n",
    "        menu = \"탕수육\"\n",
    "    \n",
    "    print(\"주문하신 메뉴는 %s이고 수량은 %s 그릇이며, 최종 주문금액은 %s입니다.\" %(menu,cost,cost*many_menu))\n",
    "    \n",
    "    repeat = input(\"주문을 다시하시겠습니까? (y/n) \")"
   ]
  },
  {
   "cell_type": "code",
   "execution_count": null,
   "id": "33b9f3a1",
   "metadata": {},
   "outputs": [],
   "source": []
  },
  {
   "cell_type": "markdown",
   "id": "24b9dae1",
   "metadata": {},
   "source": [
    "# 파이썬을 이용하여 로봇의 이동 경로 설정하기\n",
    "https://reeborg.ca/reeborg.html?lang=en&mode=python&menu=worlds%2Fmenus%2Freeborg_intro_en.json&name=Hurdle%203&url=worlds%2Ftutorial_en%2Fhurdle3.json"
   ]
  }
 ],
 "metadata": {
  "kernelspec": {
   "display_name": "Python 3",
   "language": "python",
   "name": "python3"
  },
  "language_info": {
   "codemirror_mode": {
    "name": "ipython",
    "version": 3
   },
   "file_extension": ".py",
   "mimetype": "text/x-python",
   "name": "python",
   "nbconvert_exporter": "python",
   "pygments_lexer": "ipython3",
   "version": "3.8.8"
  }
 },
 "nbformat": 4,
 "nbformat_minor": 5
}
