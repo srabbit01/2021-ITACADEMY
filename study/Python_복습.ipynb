{
 "cells": [
  {
   "cell_type": "markdown",
   "id": "cec5d220",
   "metadata": {},
   "source": [
    "https://wikidocs.net/7024?sp=0"
   ]
  },
  {
   "cell_type": "markdown",
   "id": "05c3b6ee",
   "metadata": {},
   "source": [
    "1) 삼성전자라는 변수로 50,000원을 바인딩해보세요. 삼성전자 주식 10주를 보유하고 있을 때 총 평가금액을 출력하세요."
   ]
  },
  {
   "cell_type": "code",
   "execution_count": 3,
   "id": "de78801c",
   "metadata": {},
   "outputs": [
    {
     "name": "stdout",
     "output_type": "stream",
     "text": [
      "현재 삼성전자 1주 가격은 50,000원입니다.\n",
      "고객님이 보유하신 삼성전자 주식 10주의 총 평가금액은 500000입니다.\n"
     ]
    }
   ],
   "source": [
    "print(\"현재 삼성전자 1주 가격은 50,000원입니다.\")\n",
    "삼성전자 = 50000\n",
    "print(\"고객님이 보유하신 삼성전자 주식 10주의 총 평가금액은 %s입니다.\" %(삼성전자*10))"
   ]
  },
  {
   "cell_type": "markdown",
   "id": "b3284920",
   "metadata": {},
   "source": [
    "2) 에이컨이 월 48,584원에 무이자 36개월의 조건으로 홈쇼핑에서 판매되고 있습니다. 총 금액은 계산한 후 이를 화면에 출력해보세요."
   ]
  },
  {
   "cell_type": "code",
   "execution_count": 5,
   "id": "51ae174f",
   "metadata": {},
   "outputs": [
    {
     "name": "stdout",
     "output_type": "stream",
     "text": [
      "에어컨의 총 금액은 1846192입니다.\n"
     ]
    }
   ],
   "source": [
    "aircon_mon = 48584\n",
    "mon = 38\n",
    "print(\"에어컨의 총 금액은 %s입니다.\" %(aircon_mon*mon))"
   ]
  },
  {
   "cell_type": "markdown",
   "id": "7cf4c31f",
   "metadata": {},
   "source": [
    "3) 아래의 문자열에서 '홀' 만 출력하세요.\n",
    "#### TIP: 슬라이싱할 때 변수[시작인덱스:끝인덱스:오프셋]을 지정할 수 있다."
   ]
  },
  {
   "cell_type": "code",
   "execution_count": 7,
   "id": "6409df35",
   "metadata": {},
   "outputs": [
    {
     "name": "stdout",
     "output_type": "stream",
     "text": [
      "홀홀홀\n"
     ]
    }
   ],
   "source": [
    "string = \"홀짝홀짝홀짝\"\n",
    "print(string[::2])"
   ]
  },
  {
   "cell_type": "code",
   "execution_count": 11,
   "id": "afb42494",
   "metadata": {},
   "outputs": [
    {
     "name": "stdout",
     "output_type": "stream",
     "text": [
      "짝짝짝\n"
     ]
    }
   ],
   "source": [
    "# 짝만 출력하기\n",
    "string = \"홀짝홀짝홀짝\"\n",
    "print(string[1::2])"
   ]
  },
  {
   "cell_type": "markdown",
   "id": "6e66d1df",
   "metadata": {},
   "source": [
    "4) 문자열을 거꾸로 뒤집어 출력하세요."
   ]
  },
  {
   "cell_type": "code",
   "execution_count": 12,
   "id": "801f2a18",
   "metadata": {},
   "outputs": [
    {
     "name": "stdout",
     "output_type": "stream",
     "text": [
      "NOHTYP\n"
     ]
    }
   ],
   "source": [
    "string = \"PYTHON\"\n",
    "print(string[::-1])"
   ]
  },
  {
   "cell_type": "markdown",
   "id": "46449531",
   "metadata": {},
   "source": [
    "5) 아래의 전화번호에서 하이푼 ('-')을 제거하고 출력하세요.\n",
    "#### 변수.replace('바꾸기전', 바꾼후')"
   ]
  },
  {
   "cell_type": "code",
   "execution_count": 13,
   "id": "1b7d5cf0",
   "metadata": {},
   "outputs": [
    {
     "name": "stdout",
     "output_type": "stream",
     "text": [
      "010 1111 2222\n"
     ]
    }
   ],
   "source": [
    "phone_number = \"010-1111-2222\"\n",
    "phone_number1 = phone_number.replace(\"-\", \" \")\n",
    "print(phone_number1)"
   ]
  },
  {
   "cell_type": "markdown",
   "id": "fb20bd58",
   "metadata": {},
   "source": [
    "6) 아래 코드의 실행 결과를 예상해보세요."
   ]
  },
  {
   "cell_type": "code",
   "execution_count": 14,
   "id": "b6a28238",
   "metadata": {},
   "outputs": [
    {
     "ename": "TypeError",
     "evalue": "'str' object does not support item assignment",
     "output_type": "error",
     "traceback": [
      "\u001b[1;31m---------------------------------------------------------------------------\u001b[0m",
      "\u001b[1;31mTypeError\u001b[0m                                 Traceback (most recent call last)",
      "\u001b[1;32m<ipython-input-14-ba8eb7824ab8>\u001b[0m in \u001b[0;36m<module>\u001b[1;34m\u001b[0m\n\u001b[0;32m      1\u001b[0m \u001b[0mlang\u001b[0m \u001b[1;33m=\u001b[0m \u001b[1;34m'python'\u001b[0m\u001b[1;33m\u001b[0m\u001b[1;33m\u001b[0m\u001b[0m\n\u001b[1;32m----> 2\u001b[1;33m \u001b[0mlang\u001b[0m\u001b[1;33m[\u001b[0m\u001b[1;36m0\u001b[0m\u001b[1;33m]\u001b[0m \u001b[1;33m=\u001b[0m \u001b[1;34m'P'\u001b[0m\u001b[1;33m\u001b[0m\u001b[1;33m\u001b[0m\u001b[0m\n\u001b[0m\u001b[0;32m      3\u001b[0m \u001b[0mprint\u001b[0m\u001b[1;33m(\u001b[0m\u001b[0mlang\u001b[0m\u001b[1;33m)\u001b[0m\u001b[1;33m\u001b[0m\u001b[1;33m\u001b[0m\u001b[0m\n",
      "\u001b[1;31mTypeError\u001b[0m: 'str' object does not support item assignment"
     ]
    }
   ],
   "source": [
    "lang = 'python'\n",
    "lang[0] = 'P'\n",
    "print(lang)\n",
    "# 문자열은 수정할 수 없다. 실행 결과를 확인해보면 문자열이 할당(assignment) 메서드를 지원하지 않음을 알 수 있다."
   ]
  },
  {
   "cell_type": "markdown",
   "id": "c2352287",
   "metadata": {},
   "source": [
    "7) 변수에 다음과 같이 문자열과 정수가 바인딩되어 있을 때 % formatting을 사용해서 다음과 같이 출력해보세요."
   ]
  },
  {
   "cell_type": "code",
   "execution_count": 3,
   "id": "3f75330f",
   "metadata": {},
   "outputs": [
    {
     "name": "stdout",
     "output_type": "stream",
     "text": [
      "이름: 김민수, 나이: 10\n",
      "이름: 이철희, 나이: 13\n"
     ]
    }
   ],
   "source": [
    "name1 = \"김민수\" \n",
    "age1 = 10\n",
    "name2 = \"이철희\"\n",
    "age2 = 13\n",
    "print('''이름: %s, 나이: %d\n",
    "이름: %s, 나이: %d''' %(name1,age1,name2,age2))"
   ]
  },
  {
   "cell_type": "code",
   "execution_count": 18,
   "id": "f7548137",
   "metadata": {},
   "outputs": [
    {
     "name": "stdout",
     "output_type": "stream",
     "text": [
      "이름: 김민수, 나이: 10\n",
      "이름: 이철희, 나이: 13\n"
     ]
    }
   ],
   "source": [
    "# 문자열의 format( ) 메서드를 사용해서 풀기\n",
    "print(\"이름: {}, 나이: {}\".format(name1,age1))\n",
    "print(\"이름: {}, 나이: {}\".format(name2,age2))"
   ]
  },
  {
   "cell_type": "code",
   "execution_count": 4,
   "id": "f2300468",
   "metadata": {},
   "outputs": [
    {
     "name": "stdout",
     "output_type": "stream",
     "text": [
      "이름: 김민수, 나이: 10\n",
      "이름: 이철희, 나이: 13\n"
     ]
    }
   ],
   "source": [
    "# f-string은 문자열 앞에 f가 붙은 형태 이다.\n",
    "# f-string을 사용하면 {변수}와 같은 형태로 문자열 사이에 타입과 상관없이 값을 출력할 수 있다.\n",
    "print(f'''이름: {name1}, 나이: {age1}\n",
    "이름: {name2}, 나이: {age2}''')"
   ]
  }
 ],
 "metadata": {
  "kernelspec": {
   "display_name": "Python 3 (ipykernel)",
   "language": "python",
   "name": "python3"
  },
  "language_info": {
   "codemirror_mode": {
    "name": "ipython",
    "version": 3
   },
   "file_extension": ".py",
   "mimetype": "text/x-python",
   "name": "python",
   "nbconvert_exporter": "python",
   "pygments_lexer": "ipython3",
   "version": "3.8.3"
  }
 },
 "nbformat": 4,
 "nbformat_minor": 5
}
